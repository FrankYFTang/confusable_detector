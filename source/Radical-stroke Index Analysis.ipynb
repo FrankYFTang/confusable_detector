{
 "cells": [
  {
   "cell_type": "markdown",
   "metadata": {},
   "source": [
    "# Radical-stroke Index Analysis\n",
    "\n",
    "The purpose of this script it to demonstrate the method of generating a good training dataset for confusable embedding encoder. To achieve this, we analyze Chinese radicals and stroke count to:\n",
    "1. find characters that are representative of Chinese characters;\n",
    "2. include edge cases and outliers not usually selected by random selection. "
   ]
  },
  {
   "cell_type": "markdown",
   "metadata": {},
   "source": [
    "## Usage\n",
    "In Jupyter Notebook, select tab **Cell**, then **Run All**. The entire script should finish running in less than 1 minute."
   ]
  },
  {
   "cell_type": "markdown",
   "metadata": {},
   "source": [
    "## Output\n",
    "6 datasets in txt format:\n",
    "    - charset_1k.txt: selected 1000 Unicode code points\n",
    "    - charset_2k.txt: selected 2000 Unicode code points\n",
    "    - charset_4k.txt: selected 4000 Unicode code points\n",
    "    - randset_1k.txt: randomly selected 1000 Unicode code points\n",
    "    - randset_2k.txt: randomly selected 2000 Unicode code points\n",
    "    - randset_4k.txt: randomly selected 4000 Unicode code points"
   ]
  },
  {
   "cell_type": "markdown",
   "metadata": {},
   "source": [
    "## Download Unihan Data\n",
    "\n",
    "See https://unicode.org/charts/unihan.html"
   ]
  },
  {
   "cell_type": "code",
   "execution_count": 1,
   "metadata": {
    "scrolled": true
   },
   "outputs": [
    {
     "name": "stdout",
     "output_type": "stream",
     "text": [
      "  % Total    % Received % Xferd  Average Speed   Time    Time     Time  Current\n",
      "                                 Dload  Upload   Total   Spent    Left  Speed\n",
      "100 6879k  100 6879k    0     0   999k      0  0:00:06  0:00:06 --:--:-- 1094k\n",
      "Reading package lists... Done\n",
      "Building dependency tree       \n",
      "Reading state information... Done\n",
      "unzip is already the newest version (6.0-21ubuntu1).\n",
      "0 upgraded, 0 newly installed, 0 to remove and 9 not upgraded.\n",
      "Archive:  Unihan.zip\n",
      "  inflating: Unihan/Unihan_DictionaryIndices.txt  \n",
      "  inflating: Unihan/Unihan_DictionaryLikeData.txt  \n",
      "  inflating: Unihan/Unihan_IRGSources.txt  \n",
      "  inflating: Unihan/Unihan_NumericValues.txt  \n",
      "  inflating: Unihan/Unihan_OtherMappings.txt  \n",
      "  inflating: Unihan/Unihan_RadicalStrokeCounts.txt  \n",
      "  inflating: Unihan/Unihan_Readings.txt  \n",
      "  inflating: Unihan/Unihan_Variants.txt  \n",
      "Requirement already satisfied: pandas in /usr/local/lib/python3.6/dist-packages (1.0.4)\n",
      "Requirement already satisfied: numpy>=1.13.3 in /usr/local/lib/python3.6/dist-packages (from pandas) (1.18.4)\n",
      "Requirement already satisfied: pytz>=2017.2 in /usr/local/lib/python3.6/dist-packages (from pandas) (2020.1)\n",
      "Requirement already satisfied: python-dateutil>=2.6.1 in /usr/local/lib/python3.6/dist-packages (from pandas) (2.8.1)\n",
      "Requirement already satisfied: six>=1.5 in /usr/local/lib/python3.6/dist-packages (from python-dateutil>=2.6.1->pandas) (1.14.0)\n"
     ]
    }
   ],
   "source": [
    "! mkdir Unihan\n",
    "! curl -O http://unicode.org/Public/UCD/latest/ucd/Unihan.zip\n",
    "! apt-get -y install unzip\n",
    "! unzip Unihan.zip -d Unihan/\n",
    "! rm Unihan.zip\n",
    "! python3 -m pip install pandas "
   ]
  },
  {
   "cell_type": "markdown",
   "metadata": {},
   "source": [
    "### Consider only KangXi radicals (no CJK Radicals Supplement)"
   ]
  },
  {
   "cell_type": "code",
   "execution_count": 2,
   "metadata": {},
   "outputs": [],
   "source": [
    "with open('Unihan/Unihan_RadicalStrokeCounts.txt') as f_in:\n",
    "    with open('Unihan_RadicalStrokeCounts_kRSKangXi.txt', \"w+\") as f_out: \n",
    "        for line in f_in:\n",
    "            if line[0] == '#' or len(line) <= 1:\n",
    "                continue\n",
    "            elif line.split('\\t')[1] == 'kRSKangXi':\n",
    "                f_out.write(line)"
   ]
  },
  {
   "cell_type": "markdown",
   "metadata": {},
   "source": [
    "## Analyze KangXi radicals"
   ]
  },
  {
   "cell_type": "code",
   "execution_count": 3,
   "metadata": {},
   "outputs": [],
   "source": [
    "# Mapping from radical number to radical string\n",
    "number_to_radical = {}\n",
    "for i in range(214):\n",
    "    number_to_radical[i+1] = chr(int('0x2F00', 16) + i)"
   ]
  },
  {
   "cell_type": "code",
   "execution_count": 4,
   "metadata": {},
   "outputs": [],
   "source": [
    "# Mapping from radical number to radical stroke count\n",
    "radical_numbers = [i+1 for i in range(214)]\n",
    "stroke_counts = [1]*6 + [2]*23 + [3]*31 + [4]*34 + [5]*23 + [6]*29 + [7]*20 + [8]*9 + [9]*11 + [10]*8 + [11]*6 + \\\n",
    "                [12]*4 + [13]*4 + [14]*2 + [15]*1 + [16]*2 + [17]*1\n",
    "number_to_stoke_count = dict(zip(radical_numbers, stroke_counts))"
   ]
  },
  {
   "cell_type": "code",
   "execution_count": 5,
   "metadata": {},
   "outputs": [],
   "source": [
    "# Get data\n",
    "import pandas as pd\n",
    "CRS_list = [] # (code_point, character, radical_number, radical, radical_stroke_count, remaining_stroke_count)\n",
    "with open('Unihan_RadicalStrokeCounts_kRSKangXi.txt') as f:\n",
    "    for line in f:\n",
    "        if line[0] == '#' or len(line) <= 1:\n",
    "            continue\n",
    "        fields = line.split('\\t')\n",
    "        codepoint, radical, stroke = fields[0], fields[2].split('.')[0], fields[2].split('.')[-1][:-1]\n",
    "        CRS_list.append((codepoint, radical, stroke))\n",
    "CRS_list = [(crs[0], chr(int('0x'+crs[0][2:], 16)), int(crs[1]), number_to_radical[int(crs[1])], \n",
    "             number_to_stoke_count[int(crs[1])], int(crs[2])) for crs in CRS_list]\n",
    "df = pd.DataFrame(CRS_list, columns = ['code_point', 'character', 'radical_number', 'radical', 'radical_strokes',\n",
    "                                            'remaining_strokes'])\n",
    "df['total_strokes'] = df['radical_strokes'] + df['remaining_strokes']"
   ]
  },
  {
   "cell_type": "code",
   "execution_count": 6,
   "metadata": {},
   "outputs": [
    {
     "data": {
      "text/plain": [
       "63696"
      ]
     },
     "execution_count": 6,
     "metadata": {},
     "output_type": "execute_result"
    }
   ],
   "source": [
    "# Total number of code points\n",
    "len(CRS_list)"
   ]
  },
  {
   "cell_type": "code",
   "execution_count": 7,
   "metadata": {
    "scrolled": false
   },
   "outputs": [
    {
     "data": {
      "text/html": [
       "<div>\n",
       "<style scoped>\n",
       "    .dataframe tbody tr th:only-of-type {\n",
       "        vertical-align: middle;\n",
       "    }\n",
       "\n",
       "    .dataframe tbody tr th {\n",
       "        vertical-align: top;\n",
       "    }\n",
       "\n",
       "    .dataframe thead th {\n",
       "        text-align: right;\n",
       "    }\n",
       "</style>\n",
       "<table border=\"1\" class=\"dataframe\">\n",
       "  <thead>\n",
       "    <tr style=\"text-align: right;\">\n",
       "      <th></th>\n",
       "      <th>code_point</th>\n",
       "      <th>character</th>\n",
       "      <th>radical_number</th>\n",
       "      <th>radical</th>\n",
       "      <th>radical_strokes</th>\n",
       "      <th>remaining_strokes</th>\n",
       "      <th>total_strokes</th>\n",
       "    </tr>\n",
       "  </thead>\n",
       "  <tbody>\n",
       "    <tr>\n",
       "      <th>0</th>\n",
       "      <td>U+3687</td>\n",
       "      <td>㚇</td>\n",
       "      <td>35</td>\n",
       "      <td>⼢</td>\n",
       "      <td>3</td>\n",
       "      <td>6</td>\n",
       "      <td>9</td>\n",
       "    </tr>\n",
       "    <tr>\n",
       "      <th>1</th>\n",
       "      <td>U+3A16</td>\n",
       "      <td>㨖</td>\n",
       "      <td>64</td>\n",
       "      <td>⼿</td>\n",
       "      <td>4</td>\n",
       "      <td>9</td>\n",
       "      <td>13</td>\n",
       "    </tr>\n",
       "    <tr>\n",
       "      <th>2</th>\n",
       "      <td>U+3ADA</td>\n",
       "      <td>㫚</td>\n",
       "      <td>72</td>\n",
       "      <td>⽇</td>\n",
       "      <td>4</td>\n",
       "      <td>4</td>\n",
       "      <td>8</td>\n",
       "    </tr>\n",
       "    <tr>\n",
       "      <th>3</th>\n",
       "      <td>U+3B39</td>\n",
       "      <td>㬹</td>\n",
       "      <td>130</td>\n",
       "      <td>⾁</td>\n",
       "      <td>6</td>\n",
       "      <td>8</td>\n",
       "      <td>14</td>\n",
       "    </tr>\n",
       "    <tr>\n",
       "      <th>4</th>\n",
       "      <td>U+4091</td>\n",
       "      <td>䂑</td>\n",
       "      <td>111</td>\n",
       "      <td>⽮</td>\n",
       "      <td>5</td>\n",
       "      <td>5</td>\n",
       "      <td>10</td>\n",
       "    </tr>\n",
       "    <tr>\n",
       "      <th>5</th>\n",
       "      <td>U+4347</td>\n",
       "      <td>䍇</td>\n",
       "      <td>121</td>\n",
       "      <td>⽸</td>\n",
       "      <td>6</td>\n",
       "      <td>5</td>\n",
       "      <td>11</td>\n",
       "    </tr>\n",
       "    <tr>\n",
       "      <th>6</th>\n",
       "      <td>U+49F9</td>\n",
       "      <td>䧹</td>\n",
       "      <td>172</td>\n",
       "      <td>⾫</td>\n",
       "      <td>8</td>\n",
       "      <td>5</td>\n",
       "      <td>13</td>\n",
       "    </tr>\n",
       "    <tr>\n",
       "      <th>7</th>\n",
       "      <td>U+4CED</td>\n",
       "      <td>䳭</td>\n",
       "      <td>196</td>\n",
       "      <td>⿃</td>\n",
       "      <td>11</td>\n",
       "      <td>9</td>\n",
       "      <td>20</td>\n",
       "    </tr>\n",
       "    <tr>\n",
       "      <th>8</th>\n",
       "      <td>U+4D60</td>\n",
       "      <td>䵠</td>\n",
       "      <td>203</td>\n",
       "      <td>⿊</td>\n",
       "      <td>12</td>\n",
       "      <td>3</td>\n",
       "      <td>15</td>\n",
       "    </tr>\n",
       "    <tr>\n",
       "      <th>9</th>\n",
       "      <td>U+4E00</td>\n",
       "      <td>一</td>\n",
       "      <td>1</td>\n",
       "      <td>⼀</td>\n",
       "      <td>1</td>\n",
       "      <td>0</td>\n",
       "      <td>1</td>\n",
       "    </tr>\n",
       "  </tbody>\n",
       "</table>\n",
       "</div>"
      ],
      "text/plain": [
       "  code_point character  radical_number radical  radical_strokes  \\\n",
       "0     U+3687         㚇              35       ⼢                3   \n",
       "1     U+3A16         㨖              64       ⼿                4   \n",
       "2     U+3ADA         㫚              72       ⽇                4   \n",
       "3     U+3B39         㬹             130       ⾁                6   \n",
       "4     U+4091         䂑             111       ⽮                5   \n",
       "5     U+4347         䍇             121       ⽸                6   \n",
       "6     U+49F9         䧹             172       ⾫                8   \n",
       "7     U+4CED         䳭             196       ⿃               11   \n",
       "8     U+4D60         䵠             203       ⿊               12   \n",
       "9     U+4E00         一               1       ⼀                1   \n",
       "\n",
       "   remaining_strokes  total_strokes  \n",
       "0                  6              9  \n",
       "1                  9             13  \n",
       "2                  4              8  \n",
       "3                  8             14  \n",
       "4                  5             10  \n",
       "5                  5             11  \n",
       "6                  5             13  \n",
       "7                  9             20  \n",
       "8                  3             15  \n",
       "9                  0              1  "
      ]
     },
     "execution_count": 7,
     "metadata": {},
     "output_type": "execute_result"
    }
   ],
   "source": [
    "# First 10 lines of the data\n",
    "df.head(10)"
   ]
  },
  {
   "cell_type": "code",
   "execution_count": 8,
   "metadata": {
    "scrolled": true
   },
   "outputs": [
    {
     "data": {
      "text/plain": [
       "['⽚',\n",
       " '⼮',\n",
       " '⾘',\n",
       " '⼹',\n",
       " '⼊',\n",
       " '⼼',\n",
       " '⽠',\n",
       " '⽺',\n",
       " '⾿',\n",
       " '⿅',\n",
       " '⾥',\n",
       " '⼕',\n",
       " '⽒',\n",
       " '⾧',\n",
       " '⾢',\n",
       " '⽅',\n",
       " '⿊',\n",
       " '⽊',\n",
       " '⼨',\n",
       " '⼺',\n",
       " '⼻',\n",
       " '⿓',\n",
       " '⽄',\n",
       " '⽣',\n",
       " '⽶',\n",
       " '⾏',\n",
       " '⼄',\n",
       " '⼥',\n",
       " '⼵',\n",
       " '⾖',\n",
       " '⽲',\n",
       " '⿕',\n",
       " '⾁',\n",
       " '⽻',\n",
       " '⼴',\n",
       " '⼢',\n",
       " '⿎',\n",
       " '⾩',\n",
       " '⾲',\n",
       " '⽎',\n",
       " '⾎',\n",
       " '⾼',\n",
       " '⽩',\n",
       " '⿀',\n",
       " '⿃',\n",
       " '⿍',\n",
       " '⽭',\n",
       " '⾷',\n",
       " '⾛',\n",
       " '⾮',\n",
       " '⿇',\n",
       " '⼧',\n",
       " '⿏',\n",
       " '⽽',\n",
       " '⾤',\n",
       " '⾪',\n",
       " '⽦',\n",
       " '⼾',\n",
       " '⼡',\n",
       " '⾐',\n",
       " '⾡',\n",
       " '⽥',\n",
       " '⾇',\n",
       " '⾦',\n",
       " '⾕',\n",
       " '⽏',\n",
       " '⽤',\n",
       " '⼟',\n",
       " '⽡',\n",
       " '⽰',\n",
       " '⼣',\n",
       " '⾱',\n",
       " '⽸',\n",
       " '⼯',\n",
       " '⼈',\n",
       " '⾈',\n",
       " '⾂',\n",
       " '⽑',\n",
       " '⾉',\n",
       " '⾣',\n",
       " '⾟',\n",
       " '⼩',\n",
       " '⽷',\n",
       " '⽗',\n",
       " '⽙',\n",
       " '⾵',\n",
       " '⼤',\n",
       " '⼛',\n",
       " '⿂',\n",
       " '⾃',\n",
       " '⾗',\n",
       " '⼁',\n",
       " '⼜',\n",
       " '⼸',\n",
       " '⾙',\n",
       " '⾶',\n",
       " '⽵',\n",
       " '⾯',\n",
       " '⿋',\n",
       " '⼋',\n",
       " '⼶',\n",
       " '⽌',\n",
       " '⽜',\n",
       " '⾓',\n",
       " '⽈',\n",
       " '⾸',\n",
       " '⼆',\n",
       " '⼳',\n",
       " '⾽',\n",
       " '⾞',\n",
       " '⼰',\n",
       " '⾑',\n",
       " '⾬',\n",
       " '⽿',\n",
       " '⼦',\n",
       " '⽆',\n",
       " '⽹',\n",
       " '⽍',\n",
       " '⽋',\n",
       " '⽛',\n",
       " '⼠',\n",
       " '⿆',\n",
       " '⽃',\n",
       " '⾄',\n",
       " '⽪',\n",
       " '⼽',\n",
       " '⾾',\n",
       " '⽢',\n",
       " '⽨',\n",
       " '⽐',\n",
       " '⼱',\n",
       " '⼲',\n",
       " '⽱',\n",
       " '⽳',\n",
       " '⼔',\n",
       " '⽕',\n",
       " '⽇',\n",
       " '⼬',\n",
       " '⽘',\n",
       " '⾹',\n",
       " '⿉',\n",
       " '⼂',\n",
       " '⼷',\n",
       " '⾒',\n",
       " '⾋',\n",
       " '⾠',\n",
       " '⼉',\n",
       " '⾅',\n",
       " '⾝',\n",
       " '⼞',\n",
       " '⽓',\n",
       " '⾆',\n",
       " '⾭',\n",
       " '⿐',\n",
       " '⽔',\n",
       " '⼀',\n",
       " '⿁',\n",
       " '⾊',\n",
       " '⼖',\n",
       " '⾜',\n",
       " '⿒',\n",
       " '⼍',\n",
       " '⼘',\n",
       " '⾚',\n",
       " '⽟',\n",
       " '⿈',\n",
       " '⽯',\n",
       " '⽮',\n",
       " '⼅',\n",
       " '⼇',\n",
       " '⿑',\n",
       " '⼿',\n",
       " '⽫',\n",
       " '⾺',\n",
       " '⽼',\n",
       " '⽧',\n",
       " '⽬',\n",
       " '⼪',\n",
       " '⽖',\n",
       " '⼐',\n",
       " '⾌',\n",
       " '⼭',\n",
       " '⽉',\n",
       " '⾳',\n",
       " '⽞',\n",
       " '⿔',\n",
       " '⼎',\n",
       " '⼏',\n",
       " '⼑',\n",
       " '⽁',\n",
       " '⼌',\n",
       " '⼙',\n",
       " '⽂',\n",
       " '⽾',\n",
       " '⾰',\n",
       " '⾔',\n",
       " '⼗',\n",
       " '⾴',\n",
       " '⼃',\n",
       " '⽀',\n",
       " '⾻',\n",
       " '⽝',\n",
       " '⼫',\n",
       " '⾍',\n",
       " '⾨',\n",
       " '⼝',\n",
       " '⽴',\n",
       " '⼓',\n",
       " '⼚',\n",
       " '⿌',\n",
       " '⼒',\n",
       " '⾫',\n",
       " '⿄',\n",
       " '⾀']"
      ]
     },
     "execution_count": 8,
     "metadata": {},
     "output_type": "execute_result"
    }
   ],
   "source": [
    "# List all radicals\n",
    "list(set(df['radical']))"
   ]
  },
  {
   "cell_type": "code",
   "execution_count": 9,
   "metadata": {},
   "outputs": [
    {
     "data": {
      "text/plain": [
       "True"
      ]
     },
     "execution_count": 9,
     "metadata": {},
     "output_type": "execute_result"
    }
   ],
   "source": [
    "# Check if all code points are unique in the dataset\n",
    "code_points = df['code_point'].tolist()\n",
    "len(code_points) == len(set(code_points))"
   ]
  },
  {
   "cell_type": "code",
   "execution_count": 10,
   "metadata": {},
   "outputs": [],
   "source": [
    "# Get count for each radical\n",
    "radical_num_list = df['radical_number'].tolist()\n",
    "radical_count = dict()\n",
    "for i in range(214):\n",
    "    radical_count[i+1] = radical_num_list.count(i+1)"
   ]
  },
  {
   "cell_type": "code",
   "execution_count": 11,
   "metadata": {
    "scrolled": false
   },
   "outputs": [
    {
     "data": {
      "image/png": "[encoded data removed]",
      "text/plain": [
       "<Figure size 1440x720 with 1 Axes>"
      ]
     },
     "metadata": {
      "needs_background": "light"
     },
     "output_type": "display_data"
    }
   ],
   "source": [
    "# Plot sorted radical count\n",
    "import numpy as np\n",
    "import matplotlib.pyplot as plt\n",
    "plt.rcParams[\"figure.figsize\"]=20,10\n",
    "\n",
    "x = ['.'] * 214\n",
    "y = sorted(list(radical_count.values()), reverse=True)\n",
    "y_pos = np.arange(len(x))\n",
    "\n",
    "plt.bar(y_pos, y, align='center', alpha=0.5)\n",
    "plt.xticks(y_pos, x)\n",
    "plt.ylabel('Number of characters')\n",
    "plt.xlabel('Radical')\n",
    "plt.title('Radical Distribution')\n",
    "\n",
    "plt.show()"
   ]
  },
  {
   "cell_type": "code",
   "execution_count": 12,
   "metadata": {},
   "outputs": [
    {
     "data": {
      "image/png": "[encoded data removed]",
      "text/plain": [
       "<Figure size 1440x720 with 1 Axes>"
      ]
     },
     "metadata": {
      "needs_background": "light"
     },
     "output_type": "display_data"
    }
   ],
   "source": [
    "# Get number of characters for specific stroke number\n",
    "stroke_list = df['total_strokes'].tolist()\n",
    "stroke_unique = sorted(list(set(stroke_list)))\n",
    "char_count = {}\n",
    "for stroke_num in stroke_unique:\n",
    "    char_count[stroke_num] = stroke_list.count(stroke_num)\n",
    "\n",
    "x = char_count.keys()\n",
    "y = char_count.values()\n",
    "y_pos = np.arange(len(x))\n",
    "\n",
    "plt.bar(y_pos, y, align='center', alpha=0.5)\n",
    "plt.xticks(y_pos, x)\n",
    "plt.ylabel('Number of characters')\n",
    "plt.xlabel('Number of strokes')\n",
    "plt.title('Number of strokes distribution')\n",
    "\n",
    "plt.show()"
   ]
  },
  {
   "cell_type": "markdown",
   "metadata": {},
   "source": [
    "We want to make sure **outlier** characters with special features are selected in the dataset. We want to make sure the dataset has a high degree of **diversity**."
   ]
  },
  {
   "cell_type": "markdown",
   "metadata": {},
   "source": [
    "## Select charset_1000"
   ]
  },
  {
   "cell_type": "code",
   "execution_count": 13,
   "metadata": {},
   "outputs": [],
   "source": [
    "dataset = set()"
   ]
  },
  {
   "cell_type": "markdown",
   "metadata": {},
   "source": [
    "### Include all radicals"
   ]
  },
  {
   "cell_type": "code",
   "execution_count": 14,
   "metadata": {},
   "outputs": [],
   "source": [
    "radical_set = set(df['radical'])\n",
    "dataset = dataset.union(radical_set)"
   ]
  },
  {
   "cell_type": "markdown",
   "metadata": {},
   "source": [
    "### Select character with basic and compound strokes\n",
    "See https://en.wikipedia.org/wiki/Stroke_(CJK_character)"
   ]
  },
  {
   "cell_type": "code",
   "execution_count": 15,
   "metadata": {},
   "outputs": [],
   "source": [
    "# Add group of characters that includes all basic and compound strokes\n",
    "basic_stroke_chars = ['二', '孑', '了', '又', '口', '勺', '计', '凹', '殳', '飞', '艺', '凸', '及', '队', '乃', '中',\n",
    "                      '水', '永', '以', '山', '亡', '肅', '己', '亞', '丂', '乂', '人', '乄', '公', '巡', '火', '尺',\n",
    "                      '之', '弋', '必', '心', '狐']\n",
    "dataset = set.union(dataset, set(basic_stroke_chars))"
   ]
  },
  {
   "cell_type": "markdown",
   "metadata": {},
   "source": [
    "### Select one other character for each radical"
   ]
  },
  {
   "cell_type": "code",
   "execution_count": 16,
   "metadata": {
    "scrolled": false
   },
   "outputs": [],
   "source": [
    "import random\n",
    "random.seed(2066)\n",
    "def add_char_by_radical(df, dataset, repeat=1):\n",
    "    for j in range(repeat):\n",
    "        for i in range(214): \n",
    "            chars = df.loc[df['radical_number'] == i + 1]['character'].tolist()\n",
    "            char = random.choice(chars)\n",
    "            dataset.add(char)\n",
    "add_char_by_radical(df, dataset)"
   ]
  },
  {
   "cell_type": "markdown",
   "metadata": {},
   "source": [
    "### Select 2 characters for each storke number"
   ]
  },
  {
   "cell_type": "code",
   "execution_count": 17,
   "metadata": {},
   "outputs": [],
   "source": [
    "def add_char_by_stroke(df, dataset, repeat=1):\n",
    "    stroke_list = df['total_strokes'].tolist()\n",
    "    stroke_unique = (set(stroke_list))\n",
    "    for j in range(repeat):\n",
    "        for stroke_num in stroke_unique:\n",
    "            chars = df.loc[df['total_strokes'] == stroke_num]['character'].tolist()\n",
    "            char = random.choice(chars)\n",
    "            dataset.add(char)\n",
    "add_char_by_stroke(df, dataset, 2)"
   ]
  },
  {
   "cell_type": "markdown",
   "metadata": {},
   "source": [
    "### Select simple characters\n",
    "As seen in the distribution, we want to make sure that special characters are selected in the dataset."
   ]
  },
  {
   "cell_type": "code",
   "execution_count": 18,
   "metadata": {},
   "outputs": [],
   "source": [
    "chars = df.loc[df['total_strokes'] <= 4]['character'].tolist()\n",
    "chars = random.choices(chars, k=80)\n",
    "dataset = set.union(dataset, set(chars))"
   ]
  },
  {
   "cell_type": "markdown",
   "metadata": {},
   "source": [
    "### Select complicated characters"
   ]
  },
  {
   "cell_type": "code",
   "execution_count": 19,
   "metadata": {},
   "outputs": [],
   "source": [
    "chars = df.loc[df['total_strokes'] >= 27]['character'].tolist()\n",
    "chars = random.choices(chars, k=80)\n",
    "dataset = set.union(dataset, set(chars))"
   ]
  },
  {
   "cell_type": "markdown",
   "metadata": {},
   "source": [
    "### Fill dataset to 1000 randomly"
   ]
  },
  {
   "cell_type": "code",
   "execution_count": 20,
   "metadata": {},
   "outputs": [],
   "source": [
    "def add_char_up_to(df, dataset, n=1000):\n",
    "    chars = df['character'].tolist()\n",
    "    while len(dataset) < n:\n",
    "        dataset.add(random.choice(chars))\n",
    "add_char_up_to(df, dataset, 1000)"
   ]
  },
  {
   "cell_type": "code",
   "execution_count": 21,
   "metadata": {},
   "outputs": [],
   "source": [
    "charset_1k = dataset"
   ]
  },
  {
   "cell_type": "markdown",
   "metadata": {},
   "source": [
    "## Select charset_2000"
   ]
  },
  {
   "cell_type": "code",
   "execution_count": 22,
   "metadata": {},
   "outputs": [],
   "source": [
    "add_char_by_radical(df, dataset, 2)\n",
    "add_char_by_stroke(df, dataset, 4)\n",
    "add_char_up_to(df, dataset, 2000)"
   ]
  },
  {
   "cell_type": "code",
   "execution_count": 23,
   "metadata": {},
   "outputs": [],
   "source": [
    "charset_2k = dataset"
   ]
  },
  {
   "cell_type": "markdown",
   "metadata": {},
   "source": [
    "## Select charset_4000"
   ]
  },
  {
   "cell_type": "code",
   "execution_count": 24,
   "metadata": {},
   "outputs": [],
   "source": [
    "add_char_by_radical(df, dataset, 4)\n",
    "add_char_by_stroke(df, dataset, 8)\n",
    "add_char_up_to(df, dataset, 4000)"
   ]
  },
  {
   "cell_type": "code",
   "execution_count": 25,
   "metadata": {},
   "outputs": [],
   "source": [
    "charset_4k = dataset"
   ]
  },
  {
   "cell_type": "markdown",
   "metadata": {},
   "source": [
    "## Generate randset_x"
   ]
  },
  {
   "cell_type": "code",
   "execution_count": 26,
   "metadata": {},
   "outputs": [],
   "source": [
    "dataset = set()\n",
    "add_char_up_to(df, dataset, 1000)\n",
    "randset_1k = dataset\n",
    "add_char_up_to(df, dataset, 2000)\n",
    "randset_2k = dataset\n",
    "add_char_up_to(df, dataset, 4000)\n",
    "randset_4k = dataset"
   ]
  },
  {
   "cell_type": "markdown",
   "metadata": {},
   "source": [
    "### Compare distributions"
   ]
  },
  {
   "cell_type": "code",
   "execution_count": 27,
   "metadata": {},
   "outputs": [
    {
     "data": {
      "image/png": "[encoded data removed]",
      "text/plain": [
       "<Figure size 1440x720 with 1 Axes>"
      ]
     },
     "metadata": {
      "needs_background": "light"
     },
     "output_type": "display_data"
    }
   ],
   "source": [
    "df_charset_1k = df[df['character'].isin(charset_1k)]\n",
    "\n",
    "# Get count for each radical\n",
    "radical_num_list = df_charset_1k['radical_number'].tolist()\n",
    "radical_count = dict()\n",
    "for i in range(214):\n",
    "    radical_count[i+1] = radical_num_list.count(i+1)\n",
    "\n",
    "# Plot\n",
    "x = ['.'] * 214\n",
    "y = sorted(list(radical_count.values()), reverse=True)\n",
    "y_pos = np.arange(len(x))\n",
    "\n",
    "plt.bar(y_pos, y, align='center', alpha=0.5)\n",
    "plt.xticks(y_pos, x)\n",
    "plt.ylabel('Number of characters')\n",
    "plt.xlabel('Radical')\n",
    "plt.title('Radical Distribution charset_1k')\n",
    "\n",
    "plt.show()"
   ]
  },
  {
   "cell_type": "code",
   "execution_count": 28,
   "metadata": {
    "scrolled": false
   },
   "outputs": [
    {
     "data": {
      "image/png": "[encoded data removed]",
      "text/plain": [
       "<Figure size 1440x720 with 1 Axes>"
      ]
     },
     "metadata": {
      "needs_background": "light"
     },
     "output_type": "display_data"
    }
   ],
   "source": [
    "df_randset_1k = df[df['character'].isin(randset_1k)]\n",
    "\n",
    "# Get count for each radical\n",
    "radical_num_list = df_randset_1k['radical_number'].tolist()\n",
    "radical_count = dict()\n",
    "for i in range(214):\n",
    "    radical_count[i+1] = radical_num_list.count(i+1)\n",
    "\n",
    "# Plot\n",
    "x = ['.'] * 214\n",
    "y = sorted(list(radical_count.values()), reverse=True)\n",
    "y_pos = np.arange(len(x))\n",
    "\n",
    "plt.bar(y_pos, y, align='center', alpha=0.5)\n",
    "plt.xticks(y_pos, x)\n",
    "plt.ylabel('Number of characters')\n",
    "plt.xlabel('Radical')\n",
    "plt.title('Radical Distribution randset_1k')\n",
    "\n",
    "plt.show()"
   ]
  },
  {
   "cell_type": "code",
   "execution_count": 29,
   "metadata": {},
   "outputs": [
    {
     "data": {
      "image/png": "[encoded data removed]",
      "text/plain": [
       "<Figure size 1440x720 with 1 Axes>"
      ]
     },
     "metadata": {
      "needs_background": "light"
     },
     "output_type": "display_data"
    }
   ],
   "source": [
    "# Get number of characters for specific stroke number\n",
    "stroke_list = df_charset_1k['total_strokes'].tolist()\n",
    "stroke_unique = sorted(list(set(stroke_list)))\n",
    "char_count = {}\n",
    "for stroke_num in stroke_unique:\n",
    "    char_count[stroke_num] = stroke_list.count(stroke_num)\n",
    "\n",
    "x = char_count.keys()\n",
    "y = char_count.values()\n",
    "y_pos = np.arange(len(x))\n",
    "\n",
    "plt.bar(y_pos, y, align='center', alpha=0.5)\n",
    "plt.xticks(y_pos, x)\n",
    "plt.ylabel('Number of characters')\n",
    "plt.xlabel('Number of strokes')\n",
    "plt.title('Number of strokes distribution charset_1k')\n",
    "\n",
    "plt.show()"
   ]
  },
  {
   "cell_type": "code",
   "execution_count": 30,
   "metadata": {},
   "outputs": [
    {
     "data": {
      "image/png": "[encoded data removed]",
      "text/plain": [
       "<Figure size 1440x720 with 1 Axes>"
      ]
     },
     "metadata": {
      "needs_background": "light"
     },
     "output_type": "display_data"
    }
   ],
   "source": [
    "# Get number of characters for specific stroke number\n",
    "stroke_list = df_randset_1k['total_strokes'].tolist()\n",
    "stroke_unique = sorted(list(set(stroke_list)))\n",
    "char_count = {}\n",
    "for stroke_num in stroke_unique:\n",
    "    char_count[stroke_num] = stroke_list.count(stroke_num)\n",
    "\n",
    "x = char_count.keys()\n",
    "y = char_count.values()\n",
    "y_pos = np.arange(len(x))\n",
    "\n",
    "plt.bar(y_pos, y, align='center', alpha=0.5)\n",
    "plt.xticks(y_pos, x)\n",
    "plt.ylabel('Number of characters')\n",
    "plt.xlabel('Number of strokes')\n",
    "plt.title('Number of strokes distribution randset_1k')\n",
    "\n",
    "plt.show()"
   ]
  },
  {
   "cell_type": "markdown",
   "metadata": {},
   "source": [
    "## Store datasets"
   ]
  },
  {
   "cell_type": "code",
   "execution_count": 31,
   "metadata": {},
   "outputs": [],
   "source": [
    "datasets = [charset_1k, charset_2k, charset_4k, randset_1k, randset_2k, randset_4k]\n",
    "data_names = ['charset_1k', 'charset_2k', 'charset_4k', 'randset_1k', 'randset_2k', 'randset_4k']\n",
    "for i in range(6):\n",
    "    with open(data_names[i]+'.txt', \"w+\") as f_out: \n",
    "        for char in datasets[i]:\n",
    "            f_out.write('U+' + str(hex(ord(char)))[2:] + '\\n')"
   ]
  },
  {
   "cell_type": "code",
   "execution_count": null,
   "metadata": {},
   "outputs": [],
   "source": []
  }
 ],
 "metadata": {
  "kernelspec": {
   "display_name": "Python 3",
   "language": "python",
   "name": "python3"
  },
  "language_info": {
   "codemirror_mode": {
    "name": "ipython",
    "version": 3
   },
   "file_extension": ".py",
   "mimetype": "text/x-python",
   "name": "python",
   "nbconvert_exporter": "python",
   "pygments_lexer": "ipython3",
   "version": "3.6.9"
  }
 },
 "nbformat": 4,
 "nbformat_minor": 2
}
