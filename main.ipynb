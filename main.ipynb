{
 "cells": [
  {
   "cell_type": "markdown",
   "metadata": {},
   "source": [
    "# Confusable Detector"
   ]
  },
  {
   "cell_type": "markdown",
   "metadata": {},
   "source": [
    "Tutorial for using confusable detector."
   ]
  },
  {
   "cell_type": "markdown",
   "metadata": {},
   "source": [
    "## Setup"
   ]
  },
  {
   "cell_type": "markdown",
   "metadata": {},
   "source": [
    "### Install required packages (run once)"
   ]
  },
  {
   "cell_type": "code",
   "execution_count": 1,
   "metadata": {
    "scrolled": true
   },
   "outputs": [
    {
     "name": "stdout",
     "output_type": "stream",
     "text": [
      "Get:1 http://security.ubuntu.com/ubuntu bionic-security InRelease [88.7 kB]\n",
      "Hit:2 http://archive.ubuntu.com/ubuntu bionic InRelease \n",
      "Get:3 http://archive.ubuntu.com/ubuntu bionic-updates InRelease [88.7 kB]      \n",
      "Get:4 http://archive.ubuntu.com/ubuntu bionic-backports InRelease [74.6 kB]    \n",
      "Get:5 http://security.ubuntu.com/ubuntu bionic-security/main amd64 Packages [993 kB]\n",
      "Get:6 http://archive.ubuntu.com/ubuntu bionic-updates/main amd64 Packages [1292 kB]\n",
      "Get:7 http://security.ubuntu.com/ubuntu bionic-security/multiverse amd64 Packages [9282 B]\n",
      "Get:8 http://security.ubuntu.com/ubuntu bionic-security/restricted amd64 Packages [87.8 kB]\n",
      "Get:9 http://security.ubuntu.com/ubuntu bionic-security/universe amd64 Packages [866 kB]\n",
      "Get:10 http://archive.ubuntu.com/ubuntu bionic-updates/universe amd64 Packages [1403 kB]\n",
      "Fetched 4904 kB in 2s (1980 kB/s)                          \n",
      "Reading package lists... Done\n",
      "Reading package lists... Done\n",
      "Building dependency tree       \n",
      "Reading state information... Done\n",
      "fontconfig is already the newest version (2.12.6-0ubuntu2).\n",
      "libfontconfig1 is already the newest version (2.12.6-0ubuntu2).\n",
      "libfreetype6 is already the newest version (2.8.1-2ubuntu2).\n",
      "libsm6 is already the newest version (2:1.2.2-1).\n",
      "libxext6 is already the newest version (2:1.3.3-1).\n",
      "libxrender1 is already the newest version (1:0.9.10-1).\n",
      "libcairo2 is already the newest version (1.15.10-2ubuntu0.1).\n",
      "0 upgraded, 0 newly installed, 0 to remove and 16 not upgraded.\n",
      "running install\n",
      "running build\n",
      "running build_py\n",
      "running install_lib\n",
      "running install_egg_info\n",
      "Removing /usr/local/lib/python3.6/dist-packages/Qahirah-1.0.egg-info\n",
      "Writing /usr/local/lib/python3.6/dist-packages/Qahirah-1.0.egg-info\n",
      "running install\n",
      "running build\n",
      "running build_py\n",
      "running install_lib\n",
      "running install_egg_info\n",
      "Removing /usr/local/lib/python3.6/dist-packages/PyBidi-1.0.egg-info\n",
      "Writing /usr/local/lib/python3.6/dist-packages/PyBidi-1.0.egg-info\n",
      "running install\n",
      "running build\n",
      "running build_py\n",
      "running install_lib\n",
      "running install_egg_info\n",
      "Removing /usr/local/lib/python3.6/dist-packages/Python_FreeType-0.62.egg-info\n",
      "Writing /usr/local/lib/python3.6/dist-packages/Python_FreeType-0.62.egg-info\n",
      "Requirement already satisfied: opencv-python in /usr/local/lib/python3.6/dist-packages (4.2.0.34)\n",
      "Requirement already satisfied: tensorflow-addons==0.9.1 in /usr/local/lib/python3.6/dist-packages (0.9.1)\n",
      "Requirement already satisfied: numpy>=1.11.3 in /usr/local/lib/python3.6/dist-packages (from opencv-python) (1.18.4)\n",
      "Requirement already satisfied: typeguard>=2.7 in /usr/local/lib/python3.6/dist-packages (from tensorflow-addons==0.9.1) (2.9.1)\n"
     ]
    }
   ],
   "source": [
    "! ./scripts/setup.sh"
   ]
  },
  {
   "cell_type": "markdown",
   "metadata": {},
   "source": [
    "### Install fonts (run once)"
   ]
  },
  {
   "cell_type": "code",
   "execution_count": 2,
   "metadata": {
    "scrolled": true
   },
   "outputs": [
    {
     "name": "stdout",
     "output_type": "stream",
     "text": [
      "Reading package lists... Done\n",
      "Building dependency tree       \n",
      "Reading state information... Done\n",
      "The following additional packages will be installed:\n",
      "  fonts-noto-cjk\n",
      "The following NEW packages will be installed:\n",
      "  fonts-noto-cjk fonts-noto-cjk-extra\n",
      "0 upgraded, 2 newly installed, 0 to remove and 16 not upgraded.\n",
      "Need to get 187 MB of archives.\n",
      "After this operation, 309 MB of additional disk space will be used.\n",
      "Get:1 http://archive.ubuntu.com/ubuntu bionic-updates/main amd64 fonts-noto-cjk all 1:20190409+repack1-0ubuntu0.18.04 [55.7 MB]\n",
      "Get:2 http://archive.ubuntu.com/ubuntu bionic-updates/main amd64 fonts-noto-cjk-extra all 1:20190409+repack1-0ubuntu0.18.04 [131 MB]\n",
      "Fetched 187 MB in 22s (8639 kB/s)                                              \n",
      "debconf: delaying package configuration, since apt-utils is not installed\n",
      "Selecting previously unselected package fonts-noto-cjk.\n",
      "(Reading database ... 16538 files and directories currently installed.)\n",
      "Preparing to unpack .../fonts-noto-cjk_1%3a20190409+repack1-0ubuntu0.18.04_all.deb ...\n",
      "Unpacking fonts-noto-cjk (1:20190409+repack1-0ubuntu0.18.04) ...\n",
      "Selecting previously unselected package fonts-noto-cjk-extra.\n",
      "Preparing to unpack .../fonts-noto-cjk-extra_1%3a20190409+repack1-0ubuntu0.18.04_all.deb ...\n",
      "Unpacking fonts-noto-cjk-extra (1:20190409+repack1-0ubuntu0.18.04) ...\n",
      "Setting up fonts-noto-cjk (1:20190409+repack1-0ubuntu0.18.04) ...\n",
      "Setting up fonts-noto-cjk-extra (1:20190409+repack1-0ubuntu0.18.04) ...\n",
      "Processing triggers for fontconfig (2.12.6-0ubuntu2) ...\n"
     ]
    }
   ],
   "source": [
    "! apt-get install -y fonts-noto-cjk-extra"
   ]
  },
  {
   "cell_type": "markdown",
   "metadata": {},
   "source": [
    "### List all available font names"
   ]
  },
  {
   "cell_type": "code",
   "execution_count": 3,
   "metadata": {
    "scrolled": true
   },
   "outputs": [
    {
     "name": "stdout",
     "output_type": "stream",
     "text": [
      "/usr/share/fonts/opentype/noto/NotoSerifCJK-Bold.ttc: Noto Serif CJK SC:style=Bold\r\n",
      "/usr/share/fonts/opentype/noto/NotoSerifCJK-Bold.ttc: Noto Serif CJK TC:style=Bold\r\n",
      "/usr/share/fonts/opentype/noto/NotoSansCJK-Black.ttc: Noto Sans CJK HK,Noto Sans CJK HK Black:style=Black,Regular\r\n",
      "/usr/share/fonts/opentype/noto/NotoSerifCJK-Bold.ttc: Noto Serif CJK JP:style=Bold\r\n",
      "/usr/share/fonts/opentype/noto/NotoSerifCJK-Bold.ttc: Noto Serif CJK KR:style=Bold\r\n",
      "/usr/share/fonts/opentype/noto/NotoSansCJK-Regular.ttc: Noto Sans CJK JP:style=Regular\r\n",
      "/usr/share/fonts/opentype/noto/NotoSansCJK-Regular.ttc: Noto Sans CJK HK:style=Regular\r\n",
      "/usr/share/fonts/opentype/noto/NotoSansCJK-Regular.ttc: Noto Sans CJK KR:style=Regular\r\n",
      "/usr/share/fonts/opentype/noto/NotoSansCJK-Black.ttc: Noto Sans CJK TC,Noto Sans CJK TC Black:style=Black,Regular\r\n",
      "/usr/share/fonts/opentype/noto/NotoSerifCJK-Medium.ttc: Noto Serif CJK KR,Noto Serif CJK KR Medium:style=Medium,Regular\r\n",
      "/usr/share/fonts/opentype/noto/NotoSansCJK-Black.ttc: Noto Sans CJK KR,Noto Sans CJK KR Black:style=Black,Regular\r\n",
      "/usr/share/fonts/opentype/noto/NotoSansCJK-Regular.ttc: Noto Sans CJK SC:style=Regular\r\n",
      "/usr/share/fonts/opentype/noto/NotoSerifCJK-SemiBold.ttc: Noto Serif CJK SC,Noto Serif CJK SC SemiBold:style=SemiBold,Regular\r\n",
      "/usr/share/fonts/opentype/noto/NotoSansCJK-Regular.ttc: Noto Sans CJK TC:style=Regular\r\n",
      "/usr/share/fonts/opentype/noto/NotoSansCJK-Medium.ttc: Noto Sans CJK JP,Noto Sans CJK JP Medium:style=Medium,Regular\r\n",
      "/usr/share/fonts/opentype/noto/NotoSerifCJK-Black.ttc: Noto Serif CJK JP,Noto Serif CJK JP Black:style=Black,Regular\r\n",
      "/usr/share/fonts/opentype/noto/NotoSansCJK-Light.ttc: Noto Sans CJK KR,Noto Sans CJK KR Light:style=Light,Regular\r\n",
      "/usr/share/fonts/opentype/noto/NotoSansCJK-Light.ttc: Noto Sans CJK HK,Noto Sans CJK HK Light:style=Light,Regular\r\n",
      "/usr/share/fonts/opentype/noto/NotoSansCJK-Black.ttc: Noto Sans CJK SC,Noto Sans CJK SC Black:style=Black,Regular\r\n",
      "/usr/share/fonts/opentype/noto/NotoSerifCJK-Regular.ttc: Noto Serif CJK SC:style=Regular\r\n",
      "/usr/share/fonts/opentype/noto/NotoSerifCJK-Regular.ttc: Noto Serif CJK TC:style=Regular\r\n",
      "/usr/share/fonts/opentype/noto/NotoSansCJK-Light.ttc: Noto Sans CJK SC,Noto Sans CJK SC Light:style=Light,Regular\r\n",
      "/usr/share/fonts/opentype/noto/NotoSerifCJK-Light.ttc: Noto Serif CJK JP,Noto Serif CJK JP Light:style=Light,Regular\r\n",
      "/usr/share/fonts/opentype/noto/NotoSerifCJK-Regular.ttc: Noto Serif CJK JP:style=Regular\r\n",
      "/usr/share/fonts/opentype/noto/NotoSerifCJK-Regular.ttc: Noto Serif CJK KR:style=Regular\r\n",
      "/usr/share/fonts/opentype/noto/NotoSerifCJK-ExtraLight.ttc: Noto Serif CJK SC,Noto Serif CJK SC ExtraLight:style=ExtraLight,Regular\r\n",
      "/usr/share/fonts/opentype/noto/NotoSansCJK-Medium.ttc: Noto Sans CJK KR,Noto Sans CJK KR Medium:style=Medium,Regular\r\n",
      "/usr/share/fonts/opentype/noto/NotoSansCJK-DemiLight.ttc: Noto Sans CJK JP,Noto Sans CJK JP DemiLight:style=DemiLight,Regular\r\n",
      "/usr/share/fonts/opentype/noto/NotoSansCJK-Thin.ttc: Noto Sans CJK JP,Noto Sans CJK JP Thin:style=Thin,Regular\r\n",
      "/usr/share/fonts/opentype/noto/NotoSansCJK-Light.ttc: Noto Sans CJK JP,Noto Sans CJK JP Light:style=Light,Regular\r\n",
      "/usr/share/fonts/opentype/noto/NotoSerifCJK-Light.ttc: Noto Serif CJK SC,Noto Serif CJK SC Light:style=Light,Regular\r\n",
      "/usr/share/fonts/opentype/noto/NotoSerifCJK-ExtraLight.ttc: Noto Serif CJK TC,Noto Serif CJK TC ExtraLight:style=ExtraLight,Regular\r\n",
      "/usr/share/fonts/opentype/noto/NotoSansCJK-Thin.ttc: Noto Sans CJK KR,Noto Sans CJK KR Thin:style=Thin,Regular\r\n",
      "/usr/share/fonts/opentype/noto/NotoSerifCJK-ExtraLight.ttc: Noto Serif CJK KR,Noto Serif CJK KR ExtraLight:style=ExtraLight,Regular\r\n",
      "/usr/share/fonts/opentype/noto/NotoSansCJK-Thin.ttc: Noto Sans CJK HK,Noto Sans CJK HK Thin:style=Thin,Regular\r\n",
      "/usr/share/fonts/opentype/noto/NotoSansCJK-Thin.ttc: Noto Sans CJK SC,Noto Sans CJK SC Thin:style=Thin,Regular\r\n",
      "/usr/share/fonts/opentype/noto/NotoSerifCJK-SemiBold.ttc: Noto Serif CJK JP,Noto Serif CJK JP SemiBold:style=SemiBold,Regular\r\n",
      "/usr/share/fonts/opentype/noto/NotoSerifCJK-Black.ttc: Noto Serif CJK SC,Noto Serif CJK SC Black:style=Black,Regular\r\n",
      "/usr/share/fonts/opentype/noto/NotoSansCJK-DemiLight.ttc: Noto Sans CJK TC,Noto Sans CJK TC DemiLight:style=DemiLight,Regular\r\n",
      "/usr/share/fonts/opentype/noto/NotoSerifCJK-Medium.ttc: Noto Serif CJK SC,Noto Serif CJK SC Medium:style=Medium,Regular\r\n",
      "/usr/share/fonts/opentype/noto/NotoSansCJK-DemiLight.ttc: Noto Sans CJK SC,Noto Sans CJK SC DemiLight:style=DemiLight,Regular\r\n",
      "/usr/share/fonts/opentype/noto/NotoSansCJK-Medium.ttc: Noto Sans CJK TC,Noto Sans CJK TC Medium:style=Medium,Regular\r\n",
      "/usr/share/fonts/opentype/noto/NotoSansCJK-Black.ttc: Noto Sans CJK JP,Noto Sans CJK JP Black:style=Black,Regular\r\n",
      "/usr/share/fonts/opentype/noto/NotoSerifCJK-Light.ttc: Noto Serif CJK KR,Noto Serif CJK KR Light:style=Light,Regular\r\n",
      "/usr/share/fonts/opentype/noto/NotoSerifCJK-SemiBold.ttc: Noto Serif CJK KR,Noto Serif CJK KR SemiBold:style=SemiBold,Regular\r\n",
      "/usr/share/fonts/opentype/noto/NotoSansCJK-Medium.ttc: Noto Sans CJK SC,Noto Sans CJK SC Medium:style=Medium,Regular\r\n",
      "/usr/share/fonts/opentype/noto/NotoSerifCJK-Black.ttc: Noto Serif CJK TC,Noto Serif CJK TC Black:style=Black,Regular\r\n",
      "/usr/share/fonts/opentype/noto/NotoSansCJK-Bold.ttc: Noto Sans Mono CJK TC:style=Bold\r\n",
      "/usr/share/fonts/opentype/noto/NotoSansCJK-DemiLight.ttc: Noto Sans CJK KR,Noto Sans CJK KR DemiLight:style=DemiLight,Regular\r\n",
      "/usr/share/fonts/opentype/noto/NotoSansCJK-Bold.ttc: Noto Sans Mono CJK SC:style=Bold\r\n",
      "/usr/share/fonts/opentype/noto/NotoSansCJK-Bold.ttc: Noto Sans Mono CJK KR:style=Bold\r\n",
      "/usr/share/fonts/opentype/noto/NotoSansCJK-Bold.ttc: Noto Sans Mono CJK HK:style=Bold\r\n",
      "/usr/share/fonts/opentype/noto/NotoSansCJK-Bold.ttc: Noto Sans Mono CJK JP:style=Bold\r\n",
      "/usr/share/fonts/opentype/noto/NotoSerifCJK-Medium.ttc: Noto Serif CJK TC,Noto Serif CJK TC Medium:style=Medium,Regular\r\n",
      "/usr/share/fonts/opentype/noto/NotoSerifCJK-ExtraLight.ttc: Noto Serif CJK JP,Noto Serif CJK JP ExtraLight:style=ExtraLight,Regular\r\n",
      "/usr/share/fonts/opentype/noto/NotoSerifCJK-Black.ttc: Noto Serif CJK KR,Noto Serif CJK KR Black:style=Black,Regular\r\n",
      "/usr/share/fonts/opentype/noto/NotoSansCJK-Medium.ttc: Noto Sans CJK HK,Noto Sans CJK HK Medium:style=Medium,Regular\r\n",
      "/usr/share/fonts/opentype/noto/NotoSerifCJK-SemiBold.ttc: Noto Serif CJK TC,Noto Serif CJK TC SemiBold:style=SemiBold,Regular\r\n",
      "/usr/share/fonts/opentype/noto/NotoSansCJK-Regular.ttc: Noto Sans Mono CJK SC:style=Regular\r\n",
      "/usr/share/fonts/opentype/noto/NotoSansCJK-Regular.ttc: Noto Sans Mono CJK TC:style=Regular\r\n",
      "/usr/share/fonts/opentype/noto/NotoSerifCJK-Light.ttc: Noto Serif CJK TC,Noto Serif CJK TC Light:style=Light,Regular\r\n",
      "/usr/share/fonts/opentype/noto/NotoSansCJK-Regular.ttc: Noto Sans Mono CJK HK:style=Regular\r\n",
      "/usr/share/fonts/opentype/noto/NotoSansCJK-Regular.ttc: Noto Sans Mono CJK KR:style=Regular\r\n",
      "/usr/share/fonts/opentype/noto/NotoSansCJK-Regular.ttc: Noto Sans Mono CJK JP:style=Regular\r\n",
      "/usr/share/fonts/opentype/noto/NotoSansCJK-Thin.ttc: Noto Sans CJK TC,Noto Sans CJK TC Thin:style=Thin,Regular\r\n",
      "/usr/share/fonts/opentype/noto/NotoSansCJK-DemiLight.ttc: Noto Sans CJK HK,Noto Sans CJK HK DemiLight:style=DemiLight,Regular\r\n",
      "/usr/share/fonts/opentype/noto/NotoSansCJK-Bold.ttc: Noto Sans CJK JP:style=Bold\r\n",
      "/usr/share/fonts/opentype/noto/NotoSansCJK-Bold.ttc: Noto Sans CJK KR:style=Bold\r\n",
      "/usr/share/fonts/opentype/noto/NotoSansCJK-Bold.ttc: Noto Sans CJK HK:style=Bold\r\n",
      "/usr/share/fonts/opentype/noto/NotoSansCJK-Bold.ttc: Noto Sans CJK TC:style=Bold\r\n",
      "/usr/share/fonts/opentype/noto/NotoSansCJK-Bold.ttc: Noto Sans CJK SC:style=Bold\r\n",
      "/usr/share/fonts/opentype/noto/NotoSerifCJK-Medium.ttc: Noto Serif CJK JP,Noto Serif CJK JP Medium:style=Medium,Regular\r\n",
      "/usr/share/fonts/opentype/noto/NotoSansCJK-Light.ttc: Noto Sans CJK TC,Noto Sans CJK TC Light:style=Light,Regular\r\n"
     ]
    }
   ],
   "source": [
    "! fc-list | grep Noto"
   ]
  },
  {
   "cell_type": "code",
   "execution_count": 4,
   "metadata": {},
   "outputs": [],
   "source": [
    "from IPython.display import Image, display\n",
    "from vis_gen import VisGen\n",
    "from distance_metrics import Distance, ImgFormat"
   ]
  },
  {
   "cell_type": "markdown",
   "metadata": {},
   "source": [
    "   "
   ]
  },
  {
   "cell_type": "markdown",
   "metadata": {},
   "source": [
    "## Generate Visualizations"
   ]
  },
  {
   "cell_type": "code",
   "execution_count": 5,
   "metadata": {},
   "outputs": [],
   "source": [
    "vg = VisGen()"
   ]
  },
  {
   "cell_type": "markdown",
   "metadata": {},
   "source": [
    "### Properties (settings)"
   ]
  },
  {
   "cell_type": "code",
   "execution_count": 6,
   "metadata": {
    "scrolled": true
   },
   "outputs": [
    {
     "data": {
      "text/plain": [
       "'Noto Sans CJK SC'"
      ]
     },
     "execution_count": 6,
     "metadata": {},
     "output_type": "execute_result"
    }
   ],
   "source": [
    "vg.font_name"
   ]
  },
  {
   "cell_type": "code",
   "execution_count": 7,
   "metadata": {},
   "outputs": [
    {
     "data": {
      "text/plain": [
       "16"
      ]
     },
     "execution_count": 7,
     "metadata": {},
     "output_type": "execute_result"
    }
   ],
   "source": [
    "vg.font_size # Default font size for chrome browser"
   ]
  },
  {
   "cell_type": "code",
   "execution_count": 8,
   "metadata": {},
   "outputs": [
    {
     "data": {
      "text/plain": [
       "20"
      ]
     },
     "execution_count": 8,
     "metadata": {},
     "output_type": "execute_result"
    }
   ],
   "source": [
    "vg.image_size # Leave enough margin for data augmentation"
   ]
  },
  {
   "cell_type": "code",
   "execution_count": 9,
   "metadata": {},
   "outputs": [
    {
     "data": {
      "text/plain": [
       "'img_out'"
      ]
     },
     "execution_count": 9,
     "metadata": {},
     "output_type": "execute_result"
    }
   ],
   "source": [
    "vg.out_dir"
   ]
  },
  {
   "cell_type": "code",
   "execution_count": 10,
   "metadata": {},
   "outputs": [
    {
     "data": {
      "text/plain": [
       "False"
      ]
     },
     "execution_count": 10,
     "metadata": {},
     "output_type": "execute_result"
    }
   ],
   "source": [
    "vg.grayscale"
   ]
  },
  {
   "cell_type": "code",
   "execution_count": 11,
   "metadata": {},
   "outputs": [
    {
     "data": {
      "text/plain": [
       "'SemiBold'"
      ]
     },
     "execution_count": 11,
     "metadata": {},
     "output_type": "execute_result"
    }
   ],
   "source": [
    "vg.font_style = \"SemiBold\"\n",
    "vg.font_style"
   ]
  },
  {
   "cell_type": "code",
   "execution_count": 12,
   "metadata": {},
   "outputs": [
    {
     "data": {
      "text/plain": [
       "'Default'"
      ]
     },
     "execution_count": 12,
     "metadata": {},
     "output_type": "execute_result"
    }
   ],
   "source": [
    "vg.antialias = 'Default'\n",
    "vg.antialias"
   ]
  },
  {
   "cell_type": "markdown",
   "metadata": {},
   "source": [
    "### For the purpose of demonstration, we temporarily change the font size to 40"
   ]
  },
  {
   "cell_type": "code",
   "execution_count": 13,
   "metadata": {},
   "outputs": [],
   "source": [
    "vg.image_size = 42\n",
    "vg.font_size = 40"
   ]
  },
  {
   "cell_type": "markdown",
   "metadata": {},
   "source": [
    "### Visualize single code point"
   ]
  },
  {
   "cell_type": "code",
   "execution_count": 14,
   "metadata": {},
   "outputs": [
    {
     "data": {
      "text/plain": [
       "'/tf/img_out/U+6bb5_Noto Sans CJK SC_SemiBold_Default.png'"
      ]
     },
     "execution_count": 14,
     "metadata": {},
     "output_type": "execute_result"
    }
   ],
   "source": [
    "vg.visualize_single('段')"
   ]
  },
  {
   "cell_type": "code",
   "execution_count": 15,
   "metadata": {},
   "outputs": [
    {
     "data": {
      "image/png": "[encoded data removed]",
      "text/plain": [
       "<IPython.core.display.Image object>"
      ]
     },
     "metadata": {},
     "output_type": "display_data"
    }
   ],
   "source": [
    "display(Image(filename='img_out/U+6bb5_Noto Sans CJK SC_SemiBold_Default.png'))"
   ]
  },
  {
   "cell_type": "markdown",
   "metadata": {},
   "source": [
    "### Visualize range of code points"
   ]
  },
  {
   "cell_type": "code",
   "execution_count": 16,
   "metadata": {},
   "outputs": [
    {
     "name": "stdout",
     "output_type": "stream",
     "text": [
      "Visualizing 5 total code points from 丅 to 三.\n",
      "Now writing 1st code point.\n",
      "Finished.\n",
      "Images stored in directory /tf/img_out.\n"
     ]
    }
   ],
   "source": [
    "vg.visualize_range(start='\\u4e05', end='\\u4e09')"
   ]
  },
  {
   "cell_type": "code",
   "execution_count": 17,
   "metadata": {},
   "outputs": [
    {
     "data": {
      "image/png": "[encoded data removed]",
      "text/plain": [
       "<IPython.core.display.Image object>"
      ]
     },
     "metadata": {},
     "output_type": "display_data"
    },
    {
     "data": {
      "image/png": "[encoded data removed]",
      "text/plain": [
       "<IPython.core.display.Image object>"
      ]
     },
     "metadata": {},
     "output_type": "display_data"
    },
    {
     "data": {
      "image/png": "[encoded data removed]",
      "text/plain": [
       "<IPython.core.display.Image object>"
      ]
     },
     "metadata": {},
     "output_type": "display_data"
    },
    {
     "data": {
      "image/png": "[encoded data removed]",
      "text/plain": [
       "<IPython.core.display.Image object>"
      ]
     },
     "metadata": {},
     "output_type": "display_data"
    },
    {
     "data": {
      "image/png": "[encoded data removed]",
      "text/plain": [
       "<IPython.core.display.Image object>"
      ]
     },
     "metadata": {},
     "output_type": "display_data"
    }
   ],
   "source": [
    "for i in range(ord('\\u4e05'), ord('\\u4e09')+1):\n",
    "    display(Image(filename='img_out/U+'+ str(hex(i))[2:]+'_Noto Sans CJK SC_SemiBold_Default.png'))"
   ]
  },
  {
   "cell_type": "markdown",
   "metadata": {},
   "source": [
    "### Options for generating dataset"
   ]
  },
  {
   "cell_type": "code",
   "execution_count": 18,
   "metadata": {},
   "outputs": [],
   "source": [
    "# Visualize availble styles for Noto Sans CJK\n",
    "for style in ['Bold','Medium','Regular','DemiLight','Light','Thin']:\n",
    "    vg.font_style = style\n",
    "    vg.visualize_single('段')"
   ]
  },
  {
   "cell_type": "code",
   "execution_count": 19,
   "metadata": {},
   "outputs": [
    {
     "data": {
      "image/png": "[encoded data removed]",
      "text/plain": [
       "<IPython.core.display.Image object>"
      ]
     },
     "metadata": {},
     "output_type": "display_data"
    },
    {
     "data": {
      "image/png": "[encoded data removed]",
      "text/plain": [
       "<IPython.core.display.Image object>"
      ]
     },
     "metadata": {},
     "output_type": "display_data"
    },
    {
     "data": {
      "image/png": "[encoded data removed]",
      "text/plain": [
       "<IPython.core.display.Image object>"
      ]
     },
     "metadata": {},
     "output_type": "display_data"
    },
    {
     "data": {
      "image/png": "[encoded data removed]",
      "text/plain": [
       "<IPython.core.display.Image object>"
      ]
     },
     "metadata": {},
     "output_type": "display_data"
    },
    {
     "data": {
      "image/png": "[encoded data removed]",
      "text/plain": [
       "<IPython.core.display.Image object>"
      ]
     },
     "metadata": {},
     "output_type": "display_data"
    },
    {
     "data": {
      "image/png": "[encoded data removed]",
      "text/plain": [
       "<IPython.core.display.Image object>"
      ]
     },
     "metadata": {},
     "output_type": "display_data"
    }
   ],
   "source": [
    "for style in ['Bold','Medium','Regular','DemiLight','Light','Thin']:\n",
    "    display(Image(filename='img_out/U+6bb5_Noto Sans CJK SC_'+style+'_Default.png'))"
   ]
  },
  {
   "cell_type": "code",
   "execution_count": 20,
   "metadata": {},
   "outputs": [],
   "source": [
    "# Visualize availble styles for Noto Sans CJK\n",
    "vg.font_name = 'Noto Sans CJK SC'\n",
    "vg.font_style = 'Regular'\n",
    "for antialias in ['Default','Fast','Good','None']:\n",
    "    vg.antialias = antialias\n",
    "    vg.visualize_single('段')"
   ]
  },
  {
   "cell_type": "code",
   "execution_count": 21,
   "metadata": {},
   "outputs": [
    {
     "data": {
      "image/png": "[encoded data removed]",
      "text/plain": [
       "<IPython.core.display.Image object>"
      ]
     },
     "metadata": {},
     "output_type": "display_data"
    },
    {
     "data": {
      "image/png": "[encoded data removed]",
      "text/plain": [
       "<IPython.core.display.Image object>"
      ]
     },
     "metadata": {},
     "output_type": "display_data"
    },
    {
     "data": {
      "image/png": "[encoded data removed]",
      "text/plain": [
       "<IPython.core.display.Image object>"
      ]
     },
     "metadata": {},
     "output_type": "display_data"
    },
    {
     "data": {
      "image/png": "[encoded data removed]",
      "text/plain": [
       "<IPython.core.display.Image object>"
      ]
     },
     "metadata": {},
     "output_type": "display_data"
    }
   ],
   "source": [
    "for antialias in ['Default','Fast','Good','None']:\n",
    "    display(Image(filename='img_out/U+6bb5_Noto Sans CJK SC_Regular_'+antialias+'.png'))"
   ]
  },
  {
   "cell_type": "markdown",
   "metadata": {},
   "source": [
    "## Generate Training Dataset"
   ]
  },
  {
   "cell_type": "code",
   "execution_count": 19,
   "metadata": {
    "scrolled": true
   },
   "outputs": [
    {
     "name": "stdout",
     "output_type": "stream",
     "text": [
      "/tf/charset_1k does not exist, creating directory...\n",
      "New directory successfully created.\n",
      "Successfully selected font style: Bold.\n",
      "Successfully selected antialiasing style: Default.\n",
      "Visualizing 1000 total code points.\n",
      "Now writing 1st code point.\n",
      "Now writing 51st code point.\n",
      "Now writing 101st code point.\n",
      "Now writing 151st code point.\n",
      "Now writing 201st code point.\n",
      "Now writing 251st code point.\n",
      "Now writing 301st code point.\n",
      "Now writing 351st code point.\n",
      "Now writing 401st code point.\n",
      "Now writing 451st code point.\n",
      "Now writing 501st code point.\n",
      "Now writing 551st code point.\n",
      "Now writing 601st code point.\n",
      "Now writing 651st code point.\n",
      "Now writing 701st code point.\n",
      "Now writing 751st code point.\n",
      "Now writing 801st code point.\n",
      "Now writing 851st code point.\n",
      "Now writing 901st code point.\n",
      "Now writing 951st code point.\n",
      "Finished.\n",
      "Images stored in directory /tf/charset_1k.\n",
      "Successfully selected antialiasing style: None.\n",
      "Visualizing 1000 total code points.\n",
      "Now writing 1st code point.\n",
      "Now writing 51st code point.\n",
      "Now writing 101st code point.\n",
      "Now writing 151st code point.\n",
      "Now writing 201st code point.\n",
      "Now writing 251st code point.\n",
      "Now writing 301st code point.\n",
      "Now writing 351st code point.\n",
      "Now writing 401st code point.\n",
      "Now writing 451st code point.\n",
      "Now writing 501st code point.\n",
      "Now writing 551st code point.\n",
      "Now writing 601st code point.\n",
      "Now writing 651st code point.\n",
      "Now writing 701st code point.\n",
      "Now writing 751st code point.\n",
      "Now writing 801st code point.\n",
      "Now writing 851st code point.\n",
      "Now writing 901st code point.\n",
      "Now writing 951st code point.\n",
      "Finished.\n",
      "Images stored in directory /tf/charset_1k.\n",
      "Successfully selected font style: Medium.\n",
      "Successfully selected antialiasing style: Default.\n",
      "Visualizing 1000 total code points.\n",
      "Now writing 1st code point.\n",
      "Now writing 51st code point.\n",
      "Now writing 101st code point.\n",
      "Now writing 151st code point.\n",
      "Now writing 201st code point.\n",
      "Now writing 251st code point.\n",
      "Now writing 301st code point.\n",
      "Now writing 351st code point.\n",
      "Now writing 401st code point.\n",
      "Now writing 451st code point.\n",
      "Now writing 501st code point.\n",
      "Now writing 551st code point.\n",
      "Now writing 601st code point.\n",
      "Now writing 651st code point.\n",
      "Now writing 701st code point.\n",
      "Now writing 751st code point.\n",
      "Now writing 801st code point.\n",
      "Now writing 851st code point.\n",
      "Now writing 901st code point.\n",
      "Now writing 951st code point.\n",
      "Finished.\n",
      "Images stored in directory /tf/charset_1k.\n",
      "Successfully selected antialiasing style: None.\n",
      "Visualizing 1000 total code points.\n",
      "Now writing 1st code point.\n",
      "Now writing 51st code point.\n",
      "Now writing 101st code point.\n",
      "Now writing 151st code point.\n",
      "Now writing 201st code point.\n",
      "Now writing 251st code point.\n",
      "Now writing 301st code point.\n",
      "Now writing 351st code point.\n",
      "Now writing 401st code point.\n",
      "Now writing 451st code point.\n",
      "Now writing 501st code point.\n",
      "Now writing 551st code point.\n",
      "Now writing 601st code point.\n",
      "Now writing 651st code point.\n",
      "Now writing 701st code point.\n",
      "Now writing 751st code point.\n",
      "Now writing 801st code point.\n",
      "Now writing 851st code point.\n",
      "Now writing 901st code point.\n",
      "Now writing 951st code point.\n",
      "Finished.\n",
      "Images stored in directory /tf/charset_1k.\n",
      "Successfully selected font style: Regular.\n",
      "Successfully selected antialiasing style: Default.\n",
      "Visualizing 1000 total code points.\n",
      "Now writing 1st code point.\n",
      "Now writing 51st code point.\n",
      "Now writing 101st code point.\n",
      "Now writing 151st code point.\n",
      "Now writing 201st code point.\n",
      "Now writing 251st code point.\n",
      "Now writing 301st code point.\n",
      "Now writing 351st code point.\n",
      "Now writing 401st code point.\n",
      "Now writing 451st code point.\n",
      "Now writing 501st code point.\n",
      "Now writing 551st code point.\n",
      "Now writing 601st code point.\n",
      "Now writing 651st code point.\n",
      "Now writing 701st code point.\n",
      "Now writing 751st code point.\n",
      "Now writing 801st code point.\n",
      "Now writing 851st code point.\n",
      "Now writing 901st code point.\n",
      "Now writing 951st code point.\n",
      "Finished.\n",
      "Images stored in directory /tf/charset_1k.\n",
      "Successfully selected antialiasing style: None.\n",
      "Visualizing 1000 total code points.\n",
      "Now writing 1st code point.\n",
      "Now writing 51st code point.\n",
      "Now writing 101st code point.\n",
      "Now writing 151st code point.\n",
      "Now writing 201st code point.\n",
      "Now writing 251st code point.\n",
      "Now writing 301st code point.\n",
      "Now writing 351st code point.\n",
      "Now writing 401st code point.\n",
      "Now writing 451st code point.\n",
      "Now writing 501st code point.\n",
      "Now writing 551st code point.\n",
      "Now writing 601st code point.\n",
      "Now writing 651st code point.\n",
      "Now writing 701st code point.\n",
      "Now writing 751st code point.\n",
      "Now writing 801st code point.\n",
      "Now writing 851st code point.\n",
      "Now writing 901st code point.\n",
      "Now writing 951st code point.\n",
      "Finished.\n",
      "Images stored in directory /tf/charset_1k.\n",
      "Successfully selected font style: DemiLight.\n",
      "Successfully selected antialiasing style: Default.\n",
      "Visualizing 1000 total code points.\n",
      "Now writing 1st code point.\n",
      "Now writing 51st code point.\n",
      "Now writing 101st code point.\n",
      "Now writing 151st code point.\n",
      "Now writing 201st code point.\n",
      "Now writing 251st code point.\n",
      "Now writing 301st code point.\n",
      "Now writing 351st code point.\n",
      "Now writing 401st code point.\n",
      "Now writing 451st code point.\n",
      "Now writing 501st code point.\n",
      "Now writing 551st code point.\n",
      "Now writing 601st code point.\n",
      "Now writing 651st code point.\n",
      "Now writing 701st code point.\n",
      "Now writing 751st code point.\n",
      "Now writing 801st code point.\n",
      "Now writing 851st code point.\n",
      "Now writing 901st code point.\n",
      "Now writing 951st code point.\n",
      "Finished.\n",
      "Images stored in directory /tf/charset_1k.\n",
      "Successfully selected antialiasing style: None.\n",
      "Visualizing 1000 total code points.\n",
      "Now writing 1st code point.\n",
      "Now writing 51st code point.\n",
      "Now writing 101st code point.\n",
      "Now writing 151st code point.\n",
      "Now writing 201st code point.\n",
      "Now writing 251st code point.\n",
      "Now writing 301st code point.\n",
      "Now writing 351st code point.\n",
      "Now writing 401st code point.\n",
      "Now writing 451st code point.\n",
      "Now writing 501st code point.\n",
      "Now writing 551st code point.\n",
      "Now writing 601st code point.\n",
      "Now writing 651st code point.\n",
      "Now writing 701st code point.\n",
      "Now writing 751st code point.\n",
      "Now writing 801st code point.\n",
      "Now writing 851st code point.\n",
      "Now writing 901st code point.\n",
      "Now writing 951st code point.\n",
      "Finished.\n",
      "Images stored in directory /tf/charset_1k.\n",
      "Successfully selected font style: Light.\n",
      "Successfully selected antialiasing style: Default.\n",
      "Visualizing 1000 total code points.\n",
      "Now writing 1st code point.\n",
      "Now writing 51st code point.\n",
      "Now writing 101st code point.\n",
      "Now writing 151st code point.\n",
      "Now writing 201st code point.\n",
      "Now writing 251st code point.\n",
      "Now writing 301st code point.\n",
      "Now writing 351st code point.\n",
      "Now writing 401st code point.\n",
      "Now writing 451st code point.\n",
      "Now writing 501st code point.\n",
      "Now writing 551st code point.\n",
      "Now writing 601st code point.\n",
      "Now writing 651st code point.\n",
      "Now writing 701st code point.\n",
      "Now writing 751st code point.\n",
      "Now writing 801st code point.\n",
      "Now writing 851st code point.\n",
      "Now writing 901st code point.\n",
      "Now writing 951st code point.\n",
      "Finished.\n",
      "Images stored in directory /tf/charset_1k.\n",
      "Successfully selected antialiasing style: None.\n",
      "Visualizing 1000 total code points.\n",
      "Now writing 1st code point.\n",
      "Now writing 51st code point.\n",
      "Now writing 101st code point.\n",
      "Now writing 151st code point.\n",
      "Now writing 201st code point.\n",
      "Now writing 251st code point.\n",
      "Now writing 301st code point.\n",
      "Now writing 351st code point.\n",
      "Now writing 401st code point.\n",
      "Now writing 451st code point.\n",
      "Now writing 501st code point.\n",
      "Now writing 551st code point.\n",
      "Now writing 601st code point.\n",
      "Now writing 651st code point.\n",
      "Now writing 701st code point.\n",
      "Now writing 751st code point.\n",
      "Now writing 801st code point.\n",
      "Now writing 851st code point.\n",
      "Now writing 901st code point.\n",
      "Now writing 951st code point.\n",
      "Finished.\n",
      "Images stored in directory /tf/charset_1k.\n",
      "Successfully selected font style: Thin.\n",
      "Successfully selected antialiasing style: Default.\n",
      "Visualizing 1000 total code points.\n",
      "Now writing 1st code point.\n",
      "Now writing 51st code point.\n",
      "Now writing 101st code point.\n",
      "Now writing 151st code point.\n",
      "Now writing 201st code point.\n",
      "Now writing 251st code point.\n",
      "Now writing 301st code point.\n",
      "Now writing 351st code point.\n",
      "Now writing 401st code point.\n",
      "Now writing 451st code point.\n",
      "Now writing 501st code point.\n",
      "Now writing 551st code point.\n",
      "Now writing 601st code point.\n",
      "Now writing 651st code point.\n"
     ]
    },
    {
     "name": "stdout",
     "output_type": "stream",
     "text": [
      "Now writing 701st code point.\n",
      "Now writing 751st code point.\n",
      "Now writing 801st code point.\n",
      "Now writing 851st code point.\n",
      "Now writing 901st code point.\n",
      "Now writing 951st code point.\n",
      "Finished.\n",
      "Images stored in directory /tf/charset_1k.\n",
      "Successfully selected antialiasing style: None.\n",
      "Visualizing 1000 total code points.\n",
      "Now writing 1st code point.\n",
      "Now writing 51st code point.\n",
      "Now writing 101st code point.\n",
      "Now writing 151st code point.\n",
      "Now writing 201st code point.\n",
      "Now writing 251st code point.\n",
      "Now writing 301st code point.\n",
      "Now writing 351st code point.\n",
      "Now writing 401st code point.\n",
      "Now writing 451st code point.\n",
      "Now writing 501st code point.\n",
      "Now writing 551st code point.\n",
      "Now writing 601st code point.\n",
      "Now writing 651st code point.\n",
      "Now writing 701st code point.\n",
      "Now writing 751st code point.\n",
      "Now writing 801st code point.\n",
      "Now writing 851st code point.\n",
      "Now writing 901st code point.\n",
      "Now writing 951st code point.\n",
      "Finished.\n",
      "Images stored in directory /tf/charset_1k.\n",
      "Successfully selected font style: Bold.\n",
      "Successfully selected antialiasing style: Default.\n",
      "Visualizing 1000 total code points.\n",
      "Now writing 1st code point.\n",
      "Now writing 51st code point.\n",
      "Now writing 101st code point.\n",
      "Now writing 151st code point.\n",
      "Now writing 201st code point.\n",
      "Now writing 251st code point.\n",
      "Now writing 301st code point.\n",
      "Now writing 351st code point.\n",
      "Now writing 401st code point.\n",
      "Now writing 451st code point.\n",
      "Now writing 501st code point.\n",
      "Now writing 551st code point.\n",
      "Now writing 601st code point.\n",
      "Now writing 651st code point.\n",
      "Now writing 701st code point.\n",
      "Now writing 751st code point.\n",
      "Now writing 801st code point.\n",
      "Now writing 851st code point.\n",
      "Now writing 901st code point.\n",
      "Now writing 951st code point.\n",
      "Finished.\n",
      "Images stored in directory /tf/charset_1k.\n",
      "Successfully selected antialiasing style: None.\n",
      "Visualizing 1000 total code points.\n",
      "Now writing 1st code point.\n",
      "Now writing 51st code point.\n",
      "Now writing 101st code point.\n",
      "Now writing 151st code point.\n",
      "Now writing 201st code point.\n",
      "Now writing 251st code point.\n",
      "Now writing 301st code point.\n",
      "Now writing 351st code point.\n",
      "Now writing 401st code point.\n",
      "Now writing 451st code point.\n",
      "Now writing 501st code point.\n",
      "Now writing 551st code point.\n",
      "Now writing 601st code point.\n",
      "Now writing 651st code point.\n",
      "Now writing 701st code point.\n",
      "Now writing 751st code point.\n",
      "Now writing 801st code point.\n",
      "Now writing 851st code point.\n",
      "Now writing 901st code point.\n",
      "Now writing 951st code point.\n",
      "Finished.\n",
      "Images stored in directory /tf/charset_1k.\n",
      "Successfully selected font style: Medium.\n",
      "Successfully selected antialiasing style: Default.\n",
      "Visualizing 1000 total code points.\n",
      "Now writing 1st code point.\n",
      "Now writing 51st code point.\n",
      "Now writing 101st code point.\n",
      "Now writing 151st code point.\n",
      "Now writing 201st code point.\n",
      "Now writing 251st code point.\n",
      "Now writing 301st code point.\n",
      "Now writing 351st code point.\n",
      "Now writing 401st code point.\n",
      "Now writing 451st code point.\n",
      "Now writing 501st code point.\n",
      "Now writing 551st code point.\n",
      "Now writing 601st code point.\n",
      "Now writing 651st code point.\n",
      "Now writing 701st code point.\n",
      "Now writing 751st code point.\n",
      "Now writing 801st code point.\n",
      "Now writing 851st code point.\n",
      "Now writing 901st code point.\n",
      "Now writing 951st code point.\n",
      "Finished.\n",
      "Images stored in directory /tf/charset_1k.\n",
      "Successfully selected antialiasing style: None.\n",
      "Visualizing 1000 total code points.\n",
      "Now writing 1st code point.\n",
      "Now writing 51st code point.\n",
      "Now writing 101st code point.\n",
      "Now writing 151st code point.\n",
      "Now writing 201st code point.\n",
      "Now writing 251st code point.\n",
      "Now writing 301st code point.\n",
      "Now writing 351st code point.\n",
      "Now writing 401st code point.\n",
      "Now writing 451st code point.\n",
      "Now writing 501st code point.\n",
      "Now writing 551st code point.\n",
      "Now writing 601st code point.\n",
      "Now writing 651st code point.\n",
      "Now writing 701st code point.\n",
      "Now writing 751st code point.\n",
      "Now writing 801st code point.\n",
      "Now writing 851st code point.\n",
      "Now writing 901st code point.\n",
      "Now writing 951st code point.\n",
      "Finished.\n",
      "Images stored in directory /tf/charset_1k.\n",
      "Successfully selected font style: Regular.\n",
      "Successfully selected antialiasing style: Default.\n",
      "Visualizing 1000 total code points.\n",
      "Now writing 1st code point.\n",
      "Now writing 51st code point.\n",
      "Now writing 101st code point.\n",
      "Now writing 151st code point.\n",
      "Now writing 201st code point.\n",
      "Now writing 251st code point.\n",
      "Now writing 301st code point.\n",
      "Now writing 351st code point.\n",
      "Now writing 401st code point.\n",
      "Now writing 451st code point.\n",
      "Now writing 501st code point.\n",
      "Now writing 551st code point.\n",
      "Now writing 601st code point.\n",
      "Now writing 651st code point.\n",
      "Now writing 701st code point.\n",
      "Now writing 751st code point.\n",
      "Now writing 801st code point.\n",
      "Now writing 851st code point.\n",
      "Now writing 901st code point.\n",
      "Now writing 951st code point.\n",
      "Finished.\n",
      "Images stored in directory /tf/charset_1k.\n",
      "Successfully selected antialiasing style: None.\n",
      "Visualizing 1000 total code points.\n",
      "Now writing 1st code point.\n",
      "Now writing 51st code point.\n",
      "Now writing 101st code point.\n",
      "Now writing 151st code point.\n",
      "Now writing 201st code point.\n",
      "Now writing 251st code point.\n",
      "Now writing 301st code point.\n",
      "Now writing 351st code point.\n",
      "Now writing 401st code point.\n",
      "Now writing 451st code point.\n",
      "Now writing 501st code point.\n",
      "Now writing 551st code point.\n",
      "Now writing 601st code point.\n",
      "Now writing 651st code point.\n",
      "Now writing 701st code point.\n",
      "Now writing 751st code point.\n",
      "Now writing 801st code point.\n",
      "Now writing 851st code point.\n",
      "Now writing 901st code point.\n",
      "Now writing 951st code point.\n",
      "Finished.\n",
      "Images stored in directory /tf/charset_1k.\n",
      "Successfully selected font style: DemiLight.\n",
      "Successfully selected antialiasing style: Default.\n",
      "Visualizing 1000 total code points.\n",
      "Now writing 1st code point.\n",
      "Now writing 51st code point.\n",
      "Now writing 101st code point.\n",
      "Now writing 151st code point.\n",
      "Now writing 201st code point.\n",
      "Now writing 251st code point.\n",
      "Now writing 301st code point.\n",
      "Now writing 351st code point.\n",
      "Now writing 401st code point.\n",
      "Now writing 451st code point.\n",
      "Now writing 501st code point.\n",
      "Now writing 551st code point.\n",
      "Now writing 601st code point.\n",
      "Now writing 651st code point.\n",
      "Now writing 701st code point.\n",
      "Now writing 751st code point.\n",
      "Now writing 801st code point.\n",
      "Now writing 851st code point.\n",
      "Now writing 901st code point.\n",
      "Now writing 951st code point.\n",
      "Finished.\n",
      "Images stored in directory /tf/charset_1k.\n",
      "Successfully selected antialiasing style: None.\n",
      "Visualizing 1000 total code points.\n",
      "Now writing 1st code point.\n",
      "Now writing 51st code point.\n",
      "Now writing 101st code point.\n",
      "Now writing 151st code point.\n",
      "Now writing 201st code point.\n",
      "Now writing 251st code point.\n",
      "Now writing 301st code point.\n",
      "Now writing 351st code point.\n",
      "Now writing 401st code point.\n",
      "Now writing 451st code point.\n",
      "Now writing 501st code point.\n",
      "Now writing 551st code point.\n",
      "Now writing 601st code point.\n",
      "Now writing 651st code point.\n",
      "Now writing 701st code point.\n",
      "Now writing 751st code point.\n",
      "Now writing 801st code point.\n",
      "Now writing 851st code point.\n",
      "Now writing 901st code point.\n",
      "Now writing 951st code point.\n",
      "Finished.\n",
      "Images stored in directory /tf/charset_1k.\n",
      "Successfully selected font style: Light.\n",
      "Successfully selected antialiasing style: Default.\n",
      "Visualizing 1000 total code points.\n",
      "Now writing 1st code point.\n",
      "Now writing 51st code point.\n",
      "Now writing 101st code point.\n",
      "Now writing 151st code point.\n",
      "Now writing 201st code point.\n",
      "Now writing 251st code point.\n",
      "Now writing 301st code point.\n",
      "Now writing 351st code point.\n",
      "Now writing 401st code point.\n",
      "Now writing 451st code point.\n",
      "Now writing 501st code point.\n",
      "Now writing 551st code point.\n",
      "Now writing 601st code point.\n",
      "Now writing 651st code point.\n",
      "Now writing 701st code point.\n",
      "Now writing 751st code point.\n",
      "Now writing 801st code point.\n",
      "Now writing 851st code point.\n",
      "Now writing 901st code point.\n",
      "Now writing 951st code point.\n",
      "Finished.\n",
      "Images stored in directory /tf/charset_1k.\n",
      "Successfully selected antialiasing style: None.\n",
      "Visualizing 1000 total code points.\n",
      "Now writing 1st code point.\n",
      "Now writing 51st code point.\n",
      "Now writing 101st code point.\n",
      "Now writing 151st code point.\n",
      "Now writing 201st code point.\n",
      "Now writing 251st code point.\n",
      "Now writing 301st code point.\n",
      "Now writing 351st code point.\n",
      "Now writing 401st code point.\n",
      "Now writing 451st code point.\n",
      "Now writing 501st code point.\n"
     ]
    },
    {
     "name": "stdout",
     "output_type": "stream",
     "text": [
      "Now writing 551st code point.\n",
      "Now writing 601st code point.\n",
      "Now writing 651st code point.\n",
      "Now writing 701st code point.\n",
      "Now writing 751st code point.\n",
      "Now writing 801st code point.\n",
      "Now writing 851st code point.\n",
      "Now writing 901st code point.\n",
      "Now writing 951st code point.\n",
      "Finished.\n",
      "Images stored in directory /tf/charset_1k.\n",
      "Successfully selected font style: Thin.\n",
      "Successfully selected antialiasing style: Default.\n",
      "Visualizing 1000 total code points.\n",
      "Now writing 1st code point.\n",
      "Now writing 51st code point.\n",
      "Now writing 101st code point.\n",
      "Now writing 151st code point.\n",
      "Now writing 201st code point.\n",
      "Now writing 251st code point.\n",
      "Now writing 301st code point.\n",
      "Now writing 351st code point.\n",
      "Now writing 401st code point.\n",
      "Now writing 451st code point.\n",
      "Now writing 501st code point.\n",
      "Now writing 551st code point.\n",
      "Now writing 601st code point.\n",
      "Now writing 651st code point.\n",
      "Now writing 701st code point.\n",
      "Now writing 751st code point.\n",
      "Now writing 801st code point.\n",
      "Now writing 851st code point.\n",
      "Now writing 901st code point.\n",
      "Now writing 951st code point.\n",
      "Finished.\n",
      "Images stored in directory /tf/charset_1k.\n",
      "Successfully selected antialiasing style: None.\n",
      "Visualizing 1000 total code points.\n",
      "Now writing 1st code point.\n",
      "Now writing 51st code point.\n",
      "Now writing 101st code point.\n",
      "Now writing 151st code point.\n",
      "Now writing 201st code point.\n",
      "Now writing 251st code point.\n",
      "Now writing 301st code point.\n",
      "Now writing 351st code point.\n",
      "Now writing 401st code point.\n",
      "Now writing 451st code point.\n",
      "Now writing 501st code point.\n",
      "Now writing 551st code point.\n",
      "Now writing 601st code point.\n",
      "Now writing 651st code point.\n",
      "Now writing 701st code point.\n",
      "Now writing 751st code point.\n",
      "Now writing 801st code point.\n",
      "Now writing 851st code point.\n",
      "Now writing 901st code point.\n",
      "Now writing 951st code point.\n",
      "Finished.\n",
      "Images stored in directory /tf/charset_1k.\n",
      "Successfully selected font style: Bold.\n",
      "Successfully selected antialiasing style: Default.\n",
      "Visualizing 1000 total code points.\n",
      "Now writing 1st code point.\n",
      "Now writing 51st code point.\n",
      "Now writing 101st code point.\n",
      "Now writing 151st code point.\n",
      "Now writing 201st code point.\n",
      "Now writing 251st code point.\n",
      "Now writing 301st code point.\n",
      "Now writing 351st code point.\n",
      "Now writing 401st code point.\n",
      "Now writing 451st code point.\n",
      "Now writing 501st code point.\n",
      "Now writing 551st code point.\n",
      "Now writing 601st code point.\n",
      "Now writing 651st code point.\n",
      "Now writing 701st code point.\n",
      "Now writing 751st code point.\n",
      "Now writing 801st code point.\n",
      "Now writing 851st code point.\n",
      "Now writing 901st code point.\n",
      "Now writing 951st code point.\n",
      "Finished.\n",
      "Images stored in directory /tf/charset_1k.\n",
      "Successfully selected antialiasing style: None.\n",
      "Visualizing 1000 total code points.\n",
      "Now writing 1st code point.\n",
      "Now writing 51st code point.\n",
      "Now writing 101st code point.\n",
      "Now writing 151st code point.\n",
      "Now writing 201st code point.\n",
      "Now writing 251st code point.\n",
      "Now writing 301st code point.\n",
      "Now writing 351st code point.\n",
      "Now writing 401st code point.\n",
      "Now writing 451st code point.\n",
      "Now writing 501st code point.\n",
      "Now writing 551st code point.\n",
      "Now writing 601st code point.\n",
      "Now writing 651st code point.\n",
      "Now writing 701st code point.\n",
      "Now writing 751st code point.\n",
      "Now writing 801st code point.\n",
      "Now writing 851st code point.\n",
      "Now writing 901st code point.\n",
      "Now writing 951st code point.\n",
      "Finished.\n",
      "Images stored in directory /tf/charset_1k.\n",
      "Successfully selected font style: Medium.\n",
      "Successfully selected antialiasing style: Default.\n",
      "Visualizing 1000 total code points.\n",
      "Now writing 1st code point.\n",
      "Now writing 51st code point.\n",
      "Now writing 101st code point.\n",
      "Now writing 151st code point.\n",
      "Now writing 201st code point.\n",
      "Now writing 251st code point.\n",
      "Now writing 301st code point.\n",
      "Now writing 351st code point.\n",
      "Now writing 401st code point.\n",
      "Now writing 451st code point.\n",
      "Now writing 501st code point.\n",
      "Now writing 551st code point.\n",
      "Now writing 601st code point.\n",
      "Now writing 651st code point.\n",
      "Now writing 701st code point.\n",
      "Now writing 751st code point.\n",
      "Now writing 801st code point.\n",
      "Now writing 851st code point.\n",
      "Now writing 901st code point.\n",
      "Now writing 951st code point.\n",
      "Finished.\n",
      "Images stored in directory /tf/charset_1k.\n",
      "Successfully selected antialiasing style: None.\n",
      "Visualizing 1000 total code points.\n",
      "Now writing 1st code point.\n",
      "Now writing 51st code point.\n",
      "Now writing 101st code point.\n",
      "Now writing 151st code point.\n",
      "Now writing 201st code point.\n",
      "Now writing 251st code point.\n",
      "Now writing 301st code point.\n",
      "Now writing 351st code point.\n",
      "Now writing 401st code point.\n",
      "Now writing 451st code point.\n",
      "Now writing 501st code point.\n",
      "Now writing 551st code point.\n",
      "Now writing 601st code point.\n",
      "Now writing 651st code point.\n",
      "Now writing 701st code point.\n",
      "Now writing 751st code point.\n",
      "Now writing 801st code point.\n",
      "Now writing 851st code point.\n",
      "Now writing 901st code point.\n",
      "Now writing 951st code point.\n",
      "Finished.\n",
      "Images stored in directory /tf/charset_1k.\n",
      "Successfully selected font style: Regular.\n",
      "Successfully selected antialiasing style: Default.\n",
      "Visualizing 1000 total code points.\n",
      "Now writing 1st code point.\n",
      "Now writing 51st code point.\n",
      "Now writing 101st code point.\n",
      "Now writing 151st code point.\n",
      "Now writing 201st code point.\n",
      "Now writing 251st code point.\n",
      "Now writing 301st code point.\n",
      "Now writing 351st code point.\n",
      "Now writing 401st code point.\n",
      "Now writing 451st code point.\n",
      "Now writing 501st code point.\n",
      "Now writing 551st code point.\n",
      "Now writing 601st code point.\n",
      "Now writing 651st code point.\n",
      "Now writing 701st code point.\n",
      "Now writing 751st code point.\n",
      "Now writing 801st code point.\n",
      "Now writing 851st code point.\n",
      "Now writing 901st code point.\n",
      "Now writing 951st code point.\n",
      "Finished.\n",
      "Images stored in directory /tf/charset_1k.\n",
      "Successfully selected antialiasing style: None.\n",
      "Visualizing 1000 total code points.\n",
      "Now writing 1st code point.\n",
      "Now writing 51st code point.\n",
      "Now writing 101st code point.\n",
      "Now writing 151st code point.\n",
      "Now writing 201st code point.\n",
      "Now writing 251st code point.\n",
      "Now writing 301st code point.\n",
      "Now writing 351st code point.\n",
      "Now writing 401st code point.\n",
      "Now writing 451st code point.\n",
      "Now writing 501st code point.\n",
      "Now writing 551st code point.\n",
      "Now writing 601st code point.\n",
      "Now writing 651st code point.\n",
      "Now writing 701st code point.\n",
      "Now writing 751st code point.\n",
      "Now writing 801st code point.\n",
      "Now writing 851st code point.\n",
      "Now writing 901st code point.\n",
      "Now writing 951st code point.\n",
      "Finished.\n",
      "Images stored in directory /tf/charset_1k.\n",
      "Successfully selected font style: DemiLight.\n",
      "Successfully selected antialiasing style: Default.\n",
      "Visualizing 1000 total code points.\n",
      "Now writing 1st code point.\n",
      "Now writing 51st code point.\n",
      "Now writing 101st code point.\n",
      "Now writing 151st code point.\n",
      "Now writing 201st code point.\n",
      "Now writing 251st code point.\n",
      "Now writing 301st code point.\n",
      "Now writing 351st code point.\n",
      "Now writing 401st code point.\n",
      "Now writing 451st code point.\n",
      "Now writing 501st code point.\n",
      "Now writing 551st code point.\n",
      "Now writing 601st code point.\n",
      "Now writing 651st code point.\n",
      "Now writing 701st code point.\n",
      "Now writing 751st code point.\n",
      "Now writing 801st code point.\n",
      "Now writing 851st code point.\n",
      "Now writing 901st code point.\n",
      "Now writing 951st code point.\n",
      "Finished.\n",
      "Images stored in directory /tf/charset_1k.\n",
      "Successfully selected antialiasing style: None.\n",
      "Visualizing 1000 total code points.\n",
      "Now writing 1st code point.\n",
      "Now writing 51st code point.\n",
      "Now writing 101st code point.\n",
      "Now writing 151st code point.\n",
      "Now writing 201st code point.\n",
      "Now writing 251st code point.\n",
      "Now writing 301st code point.\n",
      "Now writing 351st code point.\n",
      "Now writing 401st code point.\n",
      "Now writing 451st code point.\n",
      "Now writing 501st code point.\n",
      "Now writing 551st code point.\n",
      "Now writing 601st code point.\n",
      "Now writing 651st code point.\n",
      "Now writing 701st code point.\n",
      "Now writing 751st code point.\n",
      "Now writing 801st code point.\n",
      "Now writing 851st code point.\n",
      "Now writing 901st code point.\n",
      "Now writing 951st code point.\n",
      "Finished.\n",
      "Images stored in directory /tf/charset_1k.\n",
      "Successfully selected font style: Light.\n",
      "Successfully selected antialiasing style: Default.\n",
      "Visualizing 1000 total code points.\n",
      "Now writing 1st code point.\n",
      "Now writing 51st code point.\n",
      "Now writing 101st code point.\n",
      "Now writing 151st code point.\n",
      "Now writing 201st code point.\n",
      "Now writing 251st code point.\n",
      "Now writing 301st code point.\n"
     ]
    },
    {
     "name": "stdout",
     "output_type": "stream",
     "text": [
      "Now writing 351st code point.\n",
      "Now writing 401st code point.\n",
      "Now writing 451st code point.\n",
      "Now writing 501st code point.\n",
      "Now writing 551st code point.\n",
      "Now writing 601st code point.\n",
      "Now writing 651st code point.\n",
      "Now writing 701st code point.\n",
      "Now writing 751st code point.\n",
      "Now writing 801st code point.\n",
      "Now writing 851st code point.\n",
      "Now writing 901st code point.\n",
      "Now writing 951st code point.\n",
      "Finished.\n",
      "Images stored in directory /tf/charset_1k.\n",
      "Successfully selected antialiasing style: None.\n",
      "Visualizing 1000 total code points.\n",
      "Now writing 1st code point.\n",
      "Now writing 51st code point.\n",
      "Now writing 101st code point.\n",
      "Now writing 151st code point.\n",
      "Now writing 201st code point.\n",
      "Now writing 251st code point.\n",
      "Now writing 301st code point.\n",
      "Now writing 351st code point.\n",
      "Now writing 401st code point.\n",
      "Now writing 451st code point.\n",
      "Now writing 501st code point.\n",
      "Now writing 551st code point.\n",
      "Now writing 601st code point.\n",
      "Now writing 651st code point.\n",
      "Now writing 701st code point.\n",
      "Now writing 751st code point.\n",
      "Now writing 801st code point.\n",
      "Now writing 851st code point.\n",
      "Now writing 901st code point.\n",
      "Now writing 951st code point.\n",
      "Finished.\n",
      "Images stored in directory /tf/charset_1k.\n",
      "Successfully selected font style: Thin.\n",
      "Successfully selected antialiasing style: Default.\n",
      "Visualizing 1000 total code points.\n",
      "Now writing 1st code point.\n",
      "Now writing 51st code point.\n",
      "Now writing 101st code point.\n",
      "Now writing 151st code point.\n",
      "Now writing 201st code point.\n",
      "Now writing 251st code point.\n",
      "Now writing 301st code point.\n",
      "Now writing 351st code point.\n",
      "Now writing 401st code point.\n",
      "Now writing 451st code point.\n",
      "Now writing 501st code point.\n",
      "Now writing 551st code point.\n",
      "Now writing 601st code point.\n",
      "Now writing 651st code point.\n",
      "Now writing 701st code point.\n",
      "Now writing 751st code point.\n",
      "Now writing 801st code point.\n",
      "Now writing 851st code point.\n",
      "Now writing 901st code point.\n",
      "Now writing 951st code point.\n",
      "Finished.\n",
      "Images stored in directory /tf/charset_1k.\n",
      "Successfully selected antialiasing style: None.\n",
      "Visualizing 1000 total code points.\n",
      "Now writing 1st code point.\n",
      "Now writing 51st code point.\n",
      "Now writing 101st code point.\n",
      "Now writing 151st code point.\n",
      "Now writing 201st code point.\n",
      "Now writing 251st code point.\n",
      "Now writing 301st code point.\n",
      "Now writing 351st code point.\n",
      "Now writing 401st code point.\n",
      "Now writing 451st code point.\n",
      "Now writing 501st code point.\n",
      "Now writing 551st code point.\n",
      "Now writing 601st code point.\n",
      "Now writing 651st code point.\n",
      "Now writing 701st code point.\n",
      "Now writing 751st code point.\n",
      "Now writing 801st code point.\n",
      "Now writing 851st code point.\n",
      "Now writing 901st code point.\n",
      "Now writing 951st code point.\n",
      "Finished.\n",
      "Images stored in directory /tf/charset_1k.\n",
      "Successfully selected font style: Bold.\n",
      "Successfully selected antialiasing style: Default.\n",
      "Visualizing 1000 total code points.\n",
      "Now writing 1st code point.\n",
      "Now writing 51st code point.\n",
      "Now writing 101st code point.\n",
      "Now writing 151st code point.\n",
      "Now writing 201st code point.\n",
      "Now writing 251st code point.\n",
      "Now writing 301st code point.\n",
      "Now writing 351st code point.\n",
      "Now writing 401st code point.\n",
      "Now writing 451st code point.\n",
      "Now writing 501st code point.\n",
      "Now writing 551st code point.\n",
      "Now writing 601st code point.\n",
      "Now writing 651st code point.\n",
      "Now writing 701st code point.\n",
      "Now writing 751st code point.\n",
      "Now writing 801st code point.\n",
      "Now writing 851st code point.\n",
      "Now writing 901st code point.\n",
      "Now writing 951st code point.\n",
      "Finished.\n",
      "Images stored in directory /tf/charset_1k.\n",
      "Successfully selected antialiasing style: None.\n",
      "Visualizing 1000 total code points.\n",
      "Now writing 1st code point.\n",
      "Now writing 51st code point.\n",
      "Now writing 101st code point.\n",
      "Now writing 151st code point.\n",
      "Now writing 201st code point.\n",
      "Now writing 251st code point.\n",
      "Now writing 301st code point.\n",
      "Now writing 351st code point.\n",
      "Now writing 401st code point.\n",
      "Now writing 451st code point.\n",
      "Now writing 501st code point.\n",
      "Now writing 551st code point.\n",
      "Now writing 601st code point.\n",
      "Now writing 651st code point.\n",
      "Now writing 701st code point.\n",
      "Now writing 751st code point.\n",
      "Now writing 801st code point.\n",
      "Now writing 851st code point.\n",
      "Now writing 901st code point.\n",
      "Now writing 951st code point.\n",
      "Finished.\n",
      "Images stored in directory /tf/charset_1k.\n",
      "Successfully selected font style: Medium.\n",
      "Successfully selected antialiasing style: Default.\n",
      "Visualizing 1000 total code points.\n",
      "Now writing 1st code point.\n",
      "Now writing 51st code point.\n",
      "Now writing 101st code point.\n",
      "Now writing 151st code point.\n",
      "Now writing 201st code point.\n",
      "Now writing 251st code point.\n",
      "Now writing 301st code point.\n",
      "Now writing 351st code point.\n",
      "Now writing 401st code point.\n",
      "Now writing 451st code point.\n",
      "Now writing 501st code point.\n",
      "Now writing 551st code point.\n",
      "Now writing 601st code point.\n",
      "Now writing 651st code point.\n",
      "Now writing 701st code point.\n",
      "Now writing 751st code point.\n",
      "Now writing 801st code point.\n",
      "Now writing 851st code point.\n",
      "Now writing 901st code point.\n",
      "Now writing 951st code point.\n",
      "Finished.\n",
      "Images stored in directory /tf/charset_1k.\n",
      "Successfully selected antialiasing style: None.\n",
      "Visualizing 1000 total code points.\n",
      "Now writing 1st code point.\n",
      "Now writing 51st code point.\n",
      "Now writing 101st code point.\n",
      "Now writing 151st code point.\n",
      "Now writing 201st code point.\n",
      "Now writing 251st code point.\n",
      "Now writing 301st code point.\n",
      "Now writing 351st code point.\n",
      "Now writing 401st code point.\n",
      "Now writing 451st code point.\n",
      "Now writing 501st code point.\n",
      "Now writing 551st code point.\n",
      "Now writing 601st code point.\n",
      "Now writing 651st code point.\n",
      "Now writing 701st code point.\n",
      "Now writing 751st code point.\n",
      "Now writing 801st code point.\n",
      "Now writing 851st code point.\n",
      "Now writing 901st code point.\n",
      "Now writing 951st code point.\n",
      "Finished.\n",
      "Images stored in directory /tf/charset_1k.\n",
      "Successfully selected font style: Regular.\n",
      "Successfully selected antialiasing style: Default.\n",
      "Visualizing 1000 total code points.\n",
      "Now writing 1st code point.\n",
      "Now writing 51st code point.\n",
      "Now writing 101st code point.\n",
      "Now writing 151st code point.\n",
      "Now writing 201st code point.\n",
      "Now writing 251st code point.\n",
      "Now writing 301st code point.\n",
      "Now writing 351st code point.\n",
      "Now writing 401st code point.\n",
      "Now writing 451st code point.\n",
      "Now writing 501st code point.\n",
      "Now writing 551st code point.\n",
      "Now writing 601st code point.\n",
      "Now writing 651st code point.\n",
      "Now writing 701st code point.\n",
      "Now writing 751st code point.\n",
      "Now writing 801st code point.\n",
      "Now writing 851st code point.\n",
      "Now writing 901st code point.\n",
      "Now writing 951st code point.\n",
      "Finished.\n",
      "Images stored in directory /tf/charset_1k.\n",
      "Successfully selected antialiasing style: None.\n",
      "Visualizing 1000 total code points.\n",
      "Now writing 1st code point.\n",
      "Now writing 51st code point.\n",
      "Now writing 101st code point.\n",
      "Now writing 151st code point.\n",
      "Now writing 201st code point.\n",
      "Now writing 251st code point.\n",
      "Now writing 301st code point.\n",
      "Now writing 351st code point.\n",
      "Now writing 401st code point.\n",
      "Now writing 451st code point.\n",
      "Now writing 501st code point.\n",
      "Now writing 551st code point.\n",
      "Now writing 601st code point.\n",
      "Now writing 651st code point.\n",
      "Now writing 701st code point.\n",
      "Now writing 751st code point.\n",
      "Now writing 801st code point.\n",
      "Now writing 851st code point.\n",
      "Now writing 901st code point.\n",
      "Now writing 951st code point.\n",
      "Finished.\n",
      "Images stored in directory /tf/charset_1k.\n",
      "Successfully selected font style: DemiLight.\n",
      "Successfully selected antialiasing style: Default.\n",
      "Visualizing 1000 total code points.\n",
      "Now writing 1st code point.\n",
      "Now writing 51st code point.\n",
      "Now writing 101st code point.\n",
      "Now writing 151st code point.\n",
      "Now writing 201st code point.\n",
      "Now writing 251st code point.\n",
      "Now writing 301st code point.\n",
      "Now writing 351st code point.\n",
      "Now writing 401st code point.\n",
      "Now writing 451st code point.\n",
      "Now writing 501st code point.\n",
      "Now writing 551st code point.\n",
      "Now writing 601st code point.\n",
      "Now writing 651st code point.\n",
      "Now writing 701st code point.\n",
      "Now writing 751st code point.\n",
      "Now writing 801st code point.\n",
      "Now writing 851st code point.\n",
      "Now writing 901st code point.\n",
      "Now writing 951st code point.\n",
      "Finished.\n",
      "Images stored in directory /tf/charset_1k.\n",
      "Successfully selected antialiasing style: None.\n",
      "Visualizing 1000 total code points.\n",
      "Now writing 1st code point.\n",
      "Now writing 51st code point.\n",
      "Now writing 101st code point.\n",
      "Now writing 151st code point.\n"
     ]
    },
    {
     "name": "stdout",
     "output_type": "stream",
     "text": [
      "Now writing 201st code point.\n",
      "Now writing 251st code point.\n",
      "Now writing 301st code point.\n",
      "Now writing 351st code point.\n",
      "Now writing 401st code point.\n",
      "Now writing 451st code point.\n",
      "Now writing 501st code point.\n",
      "Now writing 551st code point.\n",
      "Now writing 601st code point.\n",
      "Now writing 651st code point.\n",
      "Now writing 701st code point.\n",
      "Now writing 751st code point.\n",
      "Now writing 801st code point.\n",
      "Now writing 851st code point.\n",
      "Now writing 901st code point.\n",
      "Now writing 951st code point.\n",
      "Finished.\n",
      "Images stored in directory /tf/charset_1k.\n",
      "Successfully selected font style: Light.\n",
      "Successfully selected antialiasing style: Default.\n",
      "Visualizing 1000 total code points.\n",
      "Now writing 1st code point.\n",
      "Now writing 51st code point.\n",
      "Now writing 101st code point.\n",
      "Now writing 151st code point.\n",
      "Now writing 201st code point.\n",
      "Now writing 251st code point.\n",
      "Now writing 301st code point.\n",
      "Now writing 351st code point.\n",
      "Now writing 401st code point.\n",
      "Now writing 451st code point.\n",
      "Now writing 501st code point.\n",
      "Now writing 551st code point.\n",
      "Now writing 601st code point.\n",
      "Now writing 651st code point.\n",
      "Now writing 701st code point.\n",
      "Now writing 751st code point.\n",
      "Now writing 801st code point.\n",
      "Now writing 851st code point.\n",
      "Now writing 901st code point.\n",
      "Now writing 951st code point.\n",
      "Finished.\n",
      "Images stored in directory /tf/charset_1k.\n",
      "Successfully selected antialiasing style: None.\n",
      "Visualizing 1000 total code points.\n",
      "Now writing 1st code point.\n",
      "Now writing 51st code point.\n",
      "Now writing 101st code point.\n",
      "Now writing 151st code point.\n",
      "Now writing 201st code point.\n",
      "Now writing 251st code point.\n",
      "Now writing 301st code point.\n",
      "Now writing 351st code point.\n",
      "Now writing 401st code point.\n",
      "Now writing 451st code point.\n",
      "Now writing 501st code point.\n",
      "Now writing 551st code point.\n",
      "Now writing 601st code point.\n",
      "Now writing 651st code point.\n",
      "Now writing 701st code point.\n",
      "Now writing 751st code point.\n",
      "Now writing 801st code point.\n",
      "Now writing 851st code point.\n",
      "Now writing 901st code point.\n",
      "Now writing 951st code point.\n",
      "Finished.\n",
      "Images stored in directory /tf/charset_1k.\n",
      "Successfully selected font style: Thin.\n",
      "Successfully selected antialiasing style: Default.\n",
      "Visualizing 1000 total code points.\n",
      "Now writing 1st code point.\n",
      "Now writing 51st code point.\n",
      "Now writing 101st code point.\n",
      "Now writing 151st code point.\n",
      "Now writing 201st code point.\n",
      "Now writing 251st code point.\n",
      "Now writing 301st code point.\n",
      "Now writing 351st code point.\n",
      "Now writing 401st code point.\n",
      "Now writing 451st code point.\n",
      "Now writing 501st code point.\n",
      "Now writing 551st code point.\n",
      "Now writing 601st code point.\n",
      "Now writing 651st code point.\n",
      "Now writing 701st code point.\n",
      "Now writing 751st code point.\n",
      "Now writing 801st code point.\n",
      "Now writing 851st code point.\n",
      "Now writing 901st code point.\n",
      "Now writing 951st code point.\n",
      "Finished.\n",
      "Images stored in directory /tf/charset_1k.\n",
      "Successfully selected antialiasing style: None.\n",
      "Visualizing 1000 total code points.\n",
      "Now writing 1st code point.\n",
      "Now writing 51st code point.\n",
      "Now writing 101st code point.\n",
      "Now writing 151st code point.\n",
      "Now writing 201st code point.\n",
      "Now writing 251st code point.\n",
      "Now writing 301st code point.\n",
      "Now writing 351st code point.\n",
      "Now writing 401st code point.\n",
      "Now writing 451st code point.\n",
      "Now writing 501st code point.\n",
      "Now writing 551st code point.\n",
      "Now writing 601st code point.\n",
      "Now writing 651st code point.\n",
      "Now writing 701st code point.\n",
      "Now writing 751st code point.\n",
      "Now writing 801st code point.\n",
      "Now writing 851st code point.\n",
      "Now writing 901st code point.\n",
      "Now writing 951st code point.\n",
      "Finished.\n",
      "Images stored in directory /tf/charset_1k.\n"
     ]
    }
   ],
   "source": [
    "vg.image_size = 20\n",
    "vg.font_size = 16\n",
    "vg.out_dir = 'data/charset_1k'\n",
    "for font_name in ['Noto Sans CJK SC', 'Noto Sans CJK JP','Noto Serif CJK TC', 'Noto Serif CJK KR']:\n",
    "    vg.font_name = font_name\n",
    "    vg.generate_dataset_from_file('source/charset_1k.txt', ['Bold','Medium','Regular','DemiLight','Light','Thin'],\n",
    "                                  ['Default','None'])"
   ]
  },
  {
   "cell_type": "markdown",
   "metadata": {},
   "source": [
    "## Split training and testing dataset"
   ]
  },
  {
   "cell_type": "code",
   "execution_count": 3,
   "metadata": {},
   "outputs": [
    {
     "name": "stdout",
     "output_type": "stream",
     "text": [
      "Creating train test split with 48000 total records...\n",
      "Train size: 47900\n",
      "Test size: 100\n",
      "Train test split successfully created.\n",
      "Training dataset has 1000 categories.\n",
      "Test dataset has 97 categories.\n",
      "All test categories in training data: True\n"
     ]
    },
    {
     "data": {
      "text/plain": [
       "(47900, 100)"
      ]
     },
     "execution_count": 3,
     "metadata": {},
     "output_type": "execute_result"
    }
   ],
   "source": [
    "vg.out_dir = 'data/charset_1k'\n",
    "vg.train_test_split()"
   ]
  },
  {
   "cell_type": "markdown",
   "metadata": {},
   "source": [
    "The information printed out by `vg.train_test_split` is useful for creating TensorFlow dataset."
   ]
  },
  {
   "cell_type": "markdown",
   "metadata": {},
   "source": [
    " "
   ]
  },
  {
   "cell_type": "markdown",
   "metadata": {},
   "source": [
    "### Get TensorFlow dataset"
   ]
  },
  {
   "cell_type": "code",
   "execution_count": null,
   "metadata": {},
   "outputs": [],
   "source": []
  },
  {
   "cell_type": "code",
   "execution_count": null,
   "metadata": {},
   "outputs": [],
   "source": []
  },
  {
   "cell_type": "code",
   "execution_count": null,
   "metadata": {},
   "outputs": [],
   "source": []
  },
  {
   "cell_type": "code",
   "execution_count": null,
   "metadata": {},
   "outputs": [],
   "source": []
  },
  {
   "cell_type": "code",
   "execution_count": null,
   "metadata": {},
   "outputs": [],
   "source": []
  },
  {
   "cell_type": "code",
   "execution_count": null,
   "metadata": {},
   "outputs": [],
   "source": []
  },
  {
   "cell_type": "markdown",
   "metadata": {},
   "source": [
    "## Distance Calculation"
   ]
  },
  {
   "cell_type": "code",
   "execution_count": 14,
   "metadata": {},
   "outputs": [],
   "source": [
    "distance = Distance(img_format=ImgFormat.RGB)"
   ]
  },
  {
   "cell_type": "markdown",
   "metadata": {},
   "source": [
    "### List all image formats"
   ]
  },
  {
   "cell_type": "code",
   "execution_count": 15,
   "metadata": {},
   "outputs": [
    {
     "data": {
      "text/plain": [
       "[<ImgFormat.RGB: 1>,\n",
       " <ImgFormat.A8: 2>,\n",
       " <ImgFormat.A1: 3>,\n",
       " <ImgFormat.EMBEDDINGS: 4>]"
      ]
     },
     "execution_count": 15,
     "metadata": {},
     "output_type": "execute_result"
    }
   ],
   "source": [
    "list(ImgFormat)"
   ]
  },
  {
   "cell_type": "markdown",
   "metadata": {},
   "source": [
    "### Get supported distance metrics for RGB image"
   ]
  },
  {
   "cell_type": "code",
   "execution_count": 16,
   "metadata": {},
   "outputs": [
    {
     "data": {
      "text/plain": [
       "dict_keys(['manhattan', 'sum_squared', 'cross_correlation'])"
      ]
     },
     "execution_count": 16,
     "metadata": {},
     "output_type": "execute_result"
    }
   ],
   "source": [
    "metrics = distance.get_metrics()\n",
    "metrics.keys()"
   ]
  },
  {
   "cell_type": "markdown",
   "metadata": {},
   "source": [
    "### Calculate distance between two images"
   ]
  },
  {
   "cell_type": "code",
   "execution_count": 21,
   "metadata": {},
   "outputs": [
    {
     "name": "stdout",
     "output_type": "stream",
     "text": [
      "Distance between 丅 and 丆 is 0.13945375382900238\n"
     ]
    }
   ],
   "source": [
    "d = distance.calculate_from_path(metric=metrics['cross_correlation'], \n",
    "                                 path1='img_out/19973_Noto Sans CJK HK_SemiBold_None.png', \n",
    "                                 path2='img_out/19974_Noto Sans CJK HK_SemiBold_None.png')\n",
    "print('Distance between {} and {} is {}'.format(chr(19973), chr(19974), d))"
   ]
  },
  {
   "cell_type": "code",
   "execution_count": 22,
   "metadata": {},
   "outputs": [
    {
     "name": "stdout",
     "output_type": "stream",
     "text": [
      "Distance between 丅 and 丈 is 0.29181215167045593\n"
     ]
    }
   ],
   "source": [
    "d = distance.calculate_from_path(metric=metrics['cross_correlation'], \n",
    "                                 path1='img_out/19973_Noto Sans CJK HK_SemiBold_None.png', \n",
    "                                 path2='img_out/19976_Noto Sans CJK HK_SemiBold_None.png')\n",
    "print('Distance between {} and {} is {}'.format(chr(19973), chr(19976), d))"
   ]
  }
 ],
 "metadata": {
  "kernelspec": {
   "display_name": "Python 3",
   "language": "python",
   "name": "python3"
  },
  "language_info": {
   "codemirror_mode": {
    "name": "ipython",
    "version": 3
   },
   "file_extension": ".py",
   "mimetype": "text/x-python",
   "name": "python",
   "nbconvert_exporter": "python",
   "pygments_lexer": "ipython3",
   "version": "3.6.9"
  }
 },
 "nbformat": 4,
 "nbformat_minor": 2
}
