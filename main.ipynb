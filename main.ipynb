{
 "cells": [
  {
   "cell_type": "markdown",
   "metadata": {},
   "source": [
    "# Confusable Detector"
   ]
  },
  {
   "cell_type": "markdown",
   "metadata": {},
   "source": [
    "Tutorial for using confusable detector."
   ]
  },
  {
   "cell_type": "markdown",
   "metadata": {},
   "source": [
    "## Setup"
   ]
  },
  {
   "cell_type": "markdown",
   "metadata": {},
   "source": [
    "### Install required packages"
   ]
  },
  {
   "cell_type": "code",
   "execution_count": 1,
   "metadata": {},
   "outputs": [
    {
     "name": "stdout",
     "output_type": "stream",
     "text": [
      "Get:1 http://security.ubuntu.com/ubuntu bionic-security InRelease [88.7 kB]\n",
      "Hit:2 http://archive.ubuntu.com/ubuntu bionic InRelease                        \n",
      "Get:3 http://archive.ubuntu.com/ubuntu bionic-updates InRelease [88.7 kB]\n",
      "Get:4 http://security.ubuntu.com/ubuntu bionic-security/main amd64 Packages [933 kB]\n",
      "Get:5 http://archive.ubuntu.com/ubuntu bionic-backports InRelease [74.6 kB]    \n",
      "Get:6 http://archive.ubuntu.com/ubuntu bionic-updates/universe amd64 Packages [1387 kB]\n",
      "Get:7 http://archive.ubuntu.com/ubuntu bionic-updates/multiverse amd64 Packages [20.1 kB]\n",
      "Get:8 http://archive.ubuntu.com/ubuntu bionic-updates/main amd64 Packages [1230 kB]\n",
      "Fetched 3822 kB in 2s (2040 kB/s)                     \n",
      "Reading package lists... Done\n",
      "Reading package lists... Done\n",
      "Building dependency tree       \n",
      "Reading state information... Done\n",
      "libfreetype6 is already the newest version (2.8.1-2ubuntu2).\n",
      "libcairo2 is already the newest version (1.15.10-2ubuntu0.1).\n",
      "0 upgraded, 0 newly installed, 0 to remove and 7 not upgraded.\n",
      "running install\n",
      "running build\n",
      "running build_py\n",
      "running install_lib\n",
      "running install_egg_info\n",
      "Removing /usr/local/lib/python3.6/dist-packages/Qahirah-1.0.egg-info\n",
      "Writing /usr/local/lib/python3.6/dist-packages/Qahirah-1.0.egg-info\n",
      "running install\n",
      "running build\n",
      "running build_py\n",
      "running install_lib\n",
      "running install_egg_info\n",
      "Removing /usr/local/lib/python3.6/dist-packages/PyBidi-1.0.egg-info\n",
      "Writing /usr/local/lib/python3.6/dist-packages/PyBidi-1.0.egg-info\n",
      "running install\n",
      "running build\n",
      "running build_py\n",
      "running install_lib\n",
      "running install_egg_info\n",
      "Removing /usr/local/lib/python3.6/dist-packages/Python_FreeType-0.62.egg-info\n",
      "Writing /usr/local/lib/python3.6/dist-packages/Python_FreeType-0.62.egg-info\n",
      "Requirement already satisfied: Pillow in /usr/local/lib/python3.6/dist-packages (7.1.2)\n"
     ]
    }
   ],
   "source": [
    "! ./scripts/setup.sh"
   ]
  },
  {
   "cell_type": "markdown",
   "metadata": {},
   "source": [
    "### Install fonts"
   ]
  },
  {
   "cell_type": "code",
   "execution_count": 2,
   "metadata": {
    "scrolled": true
   },
   "outputs": [
    {
     "name": "stdout",
     "output_type": "stream",
     "text": [
      "Reading package lists... Done\n",
      "Building dependency tree       \n",
      "Reading state information... Done\n",
      "fonts-noto-cjk is already the newest version (1:20190409+repack1-0ubuntu0.18.04).\n",
      "0 upgraded, 0 newly installed, 0 to remove and 7 not upgraded.\n"
     ]
    }
   ],
   "source": [
    "! apt-get install -y fonts-noto-cjk"
   ]
  },
  {
   "cell_type": "markdown",
   "metadata": {},
   "source": [
    "   "
   ]
  },
  {
   "cell_type": "markdown",
   "metadata": {},
   "source": [
    "## Generate Visualizations"
   ]
  },
  {
   "cell_type": "code",
   "execution_count": 3,
   "metadata": {},
   "outputs": [],
   "source": [
    "from vis_gen import VisGen\n",
    "vg = VisGen()"
   ]
  },
  {
   "cell_type": "markdown",
   "metadata": {},
   "source": [
    "### Properties (settings)"
   ]
  },
  {
   "cell_type": "code",
   "execution_count": 4,
   "metadata": {
    "scrolled": true
   },
   "outputs": [
    {
     "data": {
      "text/plain": [
       "'Noto Sans CJK SC'"
      ]
     },
     "execution_count": 4,
     "metadata": {},
     "output_type": "execute_result"
    }
   ],
   "source": [
    "vg.font_name"
   ]
  },
  {
   "cell_type": "code",
   "execution_count": 5,
   "metadata": {},
   "outputs": [
    {
     "data": {
      "text/plain": [
       "36"
      ]
     },
     "execution_count": 5,
     "metadata": {},
     "output_type": "execute_result"
    }
   ],
   "source": [
    "vg.font_size"
   ]
  },
  {
   "cell_type": "code",
   "execution_count": 6,
   "metadata": {},
   "outputs": [
    {
     "data": {
      "text/plain": [
       "40"
      ]
     },
     "execution_count": 6,
     "metadata": {},
     "output_type": "execute_result"
    }
   ],
   "source": [
    "vg.image_size"
   ]
  },
  {
   "cell_type": "code",
   "execution_count": 7,
   "metadata": {},
   "outputs": [
    {
     "data": {
      "text/plain": [
       "'img_out'"
      ]
     },
     "execution_count": 7,
     "metadata": {},
     "output_type": "execute_result"
    }
   ],
   "source": [
    "vg.out_dir"
   ]
  },
  {
   "cell_type": "code",
   "execution_count": 8,
   "metadata": {},
   "outputs": [
    {
     "data": {
      "text/plain": [
       "False"
      ]
     },
     "execution_count": 8,
     "metadata": {},
     "output_type": "execute_result"
    }
   ],
   "source": [
    "vg.grayscale"
   ]
  },
  {
   "cell_type": "markdown",
   "metadata": {},
   "source": [
    "### Visualize single code point"
   ]
  },
  {
   "cell_type": "code",
   "execution_count": 9,
   "metadata": {},
   "outputs": [],
   "source": [
    "vg.visualize_single('\\u4e00')"
   ]
  },
  {
   "cell_type": "code",
   "execution_count": 10,
   "metadata": {},
   "outputs": [
    {
     "data": {
      "image/png": "[encoded data removed]",
      "text/plain": [
       "<IPython.core.display.Image object>"
      ]
     },
     "metadata": {},
     "output_type": "display_data"
    }
   ],
   "source": [
    "from IPython.display import Image, display\n",
    "display(Image(filename='img_out/Noto_Sans_CJK_SC/19968.png'))"
   ]
  },
  {
   "cell_type": "markdown",
   "metadata": {},
   "source": [
    "### Visualize range of code points"
   ]
  },
  {
   "cell_type": "code",
   "execution_count": 11,
   "metadata": {},
   "outputs": [
    {
     "name": "stdout",
     "output_type": "stream",
     "text": [
      "Visualizing 5 total code points from 丅 to 三.\n",
      "Now writing 1st code point.\n",
      "Finished.\n",
      "Images stored in directory /tf/img_out/Noto_Sans_CJK_SC.\n"
     ]
    }
   ],
   "source": [
    "vg.visualize_range(start='\\u4e05', end='\\u4e09')"
   ]
  },
  {
   "cell_type": "code",
   "execution_count": 12,
   "metadata": {},
   "outputs": [
    {
     "data": {
      "image/png": "[encoded data removed]",
      "text/plain": [
       "<IPython.core.display.Image object>"
      ]
     },
     "metadata": {},
     "output_type": "display_data"
    },
    {
     "data": {
      "image/png": "[encoded data removed]",
      "text/plain": [
       "<IPython.core.display.Image object>"
      ]
     },
     "metadata": {},
     "output_type": "display_data"
    },
    {
     "data": {
      "image/png": "[encoded data removed]",
      "text/plain": [
       "<IPython.core.display.Image object>"
      ]
     },
     "metadata": {},
     "output_type": "display_data"
    },
    {
     "data": {
      "image/png": "[encoded data removed]",
      "text/plain": [
       "<IPython.core.display.Image object>"
      ]
     },
     "metadata": {},
     "output_type": "display_data"
    },
    {
     "data": {
      "image/png": "[encoded data removed]",
      "text/plain": [
       "<IPython.core.display.Image object>"
      ]
     },
     "metadata": {},
     "output_type": "display_data"
    }
   ],
   "source": [
    "for i in range(ord('\\u4e05'), ord('\\u4e09')+1):\n",
    "    display(Image(filename='img_out/Noto_Sans_CJK_SC/'+str(i)+'.png'))"
   ]
  },
  {
   "cell_type": "markdown",
   "metadata": {},
   "source": [
    "## Distance Calculation"
   ]
  },
  {
   "cell_type": "code",
   "execution_count": 23,
   "metadata": {},
   "outputs": [],
   "source": [
    "from distance_metrics import Distance, ImgFormat\n",
    "distance = Distance(img_format=ImgFormat.RGB)"
   ]
  },
  {
   "cell_type": "markdown",
   "metadata": {},
   "source": [
    "### List all image formats"
   ]
  },
  {
   "cell_type": "code",
   "execution_count": 24,
   "metadata": {},
   "outputs": [
    {
     "data": {
      "text/plain": [
       "[<ImgFormat.RGB: 1>,\n",
       " <ImgFormat.A8: 2>,\n",
       " <ImgFormat.A1: 3>,\n",
       " <ImgFormat.EMBEDDINGS: 4>]"
      ]
     },
     "execution_count": 24,
     "metadata": {},
     "output_type": "execute_result"
    }
   ],
   "source": [
    "list(ImgFormat)"
   ]
  },
  {
   "cell_type": "markdown",
   "metadata": {},
   "source": [
    "### Get supported distance metrics for RGB image"
   ]
  },
  {
   "cell_type": "code",
   "execution_count": 25,
   "metadata": {},
   "outputs": [
    {
     "data": {
      "text/plain": [
       "dict_keys(['naive'])"
      ]
     },
     "execution_count": 25,
     "metadata": {},
     "output_type": "execute_result"
    }
   ],
   "source": [
    "metrics = distance.get_metrics()\n",
    "metrics.keys()"
   ]
  },
  {
   "cell_type": "markdown",
   "metadata": {},
   "source": [
    "### Calculate distance between two images"
   ]
  },
  {
   "cell_type": "code",
   "execution_count": 20,
   "metadata": {},
   "outputs": [
    {
     "name": "stdout",
     "output_type": "stream",
     "text": [
      "Distance between 丅 and 丆 is 22.803125000000005\n"
     ]
    }
   ],
   "source": [
    "d = distance.calculate_from_path(metric=metrics['naive'], path1='img_out/Noto_Sans_CJK_SC/19973.png', \n",
    "                             path2='img_out/Noto_Sans_CJK_SC/19974.png')\n",
    "print('Distance between {} and {} is {}'.format(chr(19973), chr(19974), d))"
   ]
  },
  {
   "cell_type": "code",
   "execution_count": 21,
   "metadata": {},
   "outputs": [
    {
     "name": "stdout",
     "output_type": "stream",
     "text": [
      "Distance between 丅 and 丈 is 44.99\n"
     ]
    }
   ],
   "source": [
    "d = distance.calculate_from_path(metric=metrics['naive'], path1='img_out/Noto_Sans_CJK_SC/19973.png', \n",
    "                             path2='img_out/Noto_Sans_CJK_SC/19976.png')\n",
    "print('Distance between {} and {} is {}'.format(chr(19973), chr(19976), d))"
   ]
  },
  {
   "cell_type": "code",
   "execution_count": null,
   "metadata": {},
   "outputs": [],
   "source": []
  }
 ],
 "metadata": {
  "kernelspec": {
   "display_name": "Python 3",
   "language": "python",
   "name": "python3"
  },
  "language_info": {
   "codemirror_mode": {
    "name": "ipython",
    "version": 3
   },
   "file_extension": ".py",
   "mimetype": "text/x-python",
   "name": "python",
   "nbconvert_exporter": "python",
   "pygments_lexer": "ipython3",
   "version": "3.6.9"
  }
 },
 "nbformat": 4,
 "nbformat_minor": 2
}
